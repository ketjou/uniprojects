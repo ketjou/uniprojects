{
 "cells": [
  {
   "cell_type": "markdown",
   "metadata": {},
   "source": [
    "# Exercises - week 1\n",
    "\n",
    "Write your solutions to the given cells (see \"WRITE YOUR CODE HERE\"). Make your code print only what is requested. Select `Kernel` &rightarrow; `Restart & Clear Output` and then `Cell` &rightarrow; `Run All` from the menu before submitting your solutions, so that your submission contains clean output produced from scratch."
   ]
  },
  {
   "cell_type": "markdown",
   "metadata": {},
   "source": [
    "#### Exercise 1.1\n",
    "\n",
    "Create a Biopython sequence object that represents the DNA sequence AGGTACCATGACTGGAACAGTATTACCGATAACGTAACATTTGGGA. Print the sequence."
   ]
  },
  {
   "cell_type": "code",
   "execution_count": 1,
   "metadata": {},
   "outputs": [
    {
     "name": "stdout",
     "output_type": "stream",
     "text": [
      "AGGTACCATGACTGGAACAGTATTACCGATAACGTAACATTTGGGA\n",
      "Seq('AGGTACCATGACTGGAACAGTATTACCGATAACGTAACATTTGGGA')\n"
     ]
    }
   ],
   "source": [
    "import Bio.Seq as BS\n",
    "import Bio.SeqFeature as BSF\n",
    "import Bio.SeqRecord as BSR\n",
    "\n",
    "myseq=BS.Seq(\"AGGTACCATGACTGGAACAGTATTACCGATAACGTAACATTTGGGA\")\n",
    "\n",
    "print(myseq)\n",
    "\n",
    "print(repr(myseq))\n",
    "#oikein"
   ]
  },
  {
   "cell_type": "markdown",
   "metadata": {},
   "source": [
    "#### Exercise 1.2\n",
    "\n",
    "Count the number of each unique nucleotide in the aforementioned sequence. Print the nucleotides and their counts, one per line."
   ]
  },
  {
   "cell_type": "code",
   "execution_count": 2,
   "metadata": {},
   "outputs": [
    {
     "name": "stdout",
     "output_type": "stream",
     "text": [
      "('A', 16)\n",
      "('C', 8)\n",
      "('G', 11)\n",
      "('T', 11)\n"
     ]
    }
   ],
   "source": [
    "#Decided to mark the letters and print the count\n",
    "print(\"A\", myseq.count(\"A\"))\n",
    "print(\"C\", myseq.count(\"C\"))\n",
    "print(\"G\", myseq.count(\"G\"))\n",
    "print(\"T\", myseq.count(\"T\"))\n",
    "\n",
    "#counts\n",
    "#import collections as C\n",
    "#counts = C.counter(myseq)\n",
    "#for n, in c counts items():\n",
    "#print (\"\"{}{}, format(n, c))"
   ]
  },
  {
   "cell_type": "markdown",
   "metadata": {},
   "source": [
    "#### Exercise 1.3\n",
    "\n",
    "Find and print the location of the first start codon in the aforementioned sequence."
   ]
  },
  {
   "cell_type": "code",
   "execution_count": 3,
   "metadata": {},
   "outputs": [
    {
     "name": "stdout",
     "output_type": "stream",
     "text": [
      "The first occurence of ATG in myseq starts from position 8\n"
     ]
    },
    {
     "data": {
      "text/plain": [
       "Seq('ATG')"
      ]
     },
     "execution_count": 3,
     "metadata": {},
     "output_type": "execute_result"
    }
   ],
   "source": [
    "#The first start should be ATG as the seq is DNA. \n",
    "#I wanted to practice how to combine things inside the print command, thus the str formatting.\n",
    "#Put the +1 after the python position, as the real world count starts from position 1 compared to pythons 0.\n",
    "print(\"The first occurence of ATG in myseq starts from position \" + str(myseq.rfind(\"ATG\")+1))\n",
    "\n",
    "#print(BSF.FeatureLocation((idx_start, idx_start+3))\n",
    "#to get the whole 3 seq\n",
    "myseq[7:10]"
   ]
  },
  {
   "cell_type": "markdown",
   "metadata": {},
   "source": [
    "#### Exercise 1.4\n",
    "\n",
    "Print the peptide sequence produced by the open reading frame that starts at the codon found in the previous exercise."
   ]
  },
  {
   "cell_type": "code",
   "execution_count": 4,
   "metadata": {},
   "outputs": [
    {
     "data": {
      "text/plain": [
       "Seq('MTGTVLPIT', ExtendedIUPACProtein())"
      ]
     },
     "execution_count": 4,
     "metadata": {},
     "output_type": "execute_result"
    }
   ],
   "source": [
    "#Find position 7 and save it to translatedseq\n",
    "translatedseq = myseq[7:]\n",
    "\n",
    "#peptide = myseq[7:].translate(to_stop=True)\n",
    "\n",
    "#Stop when stop codon appears\n",
    "translatedseq.translate(to_stop=True)"
   ]
  },
  {
   "cell_type": "markdown",
   "metadata": {},
   "source": [
    "#### Exercise 1.5\n",
    "\n",
    "Create a Biopython sequence record representing the DNA sequence given in the first exercise. Print the record."
   ]
  },
  {
   "cell_type": "code",
   "execution_count": 5,
   "metadata": {},
   "outputs": [
    {
     "name": "stdout",
     "output_type": "stream",
     "text": [
      "ID: UID_0001\n",
      "Name: <unknown name>\n",
      "Description: <unknown description>\n",
      "Number of features: 0\n",
      "/molecule_type=DNA\n",
      "Seq('AGGTACCATGACTGGAACAGTATTACCGATAACGTAACATTTGGGA')\n"
     ]
    }
   ],
   "source": [
    "#I looked how to attach molecule type information to SeqRecord object\n",
    "#Found out that I can do the annotations at this point\n",
    "myrecord = BSR.SeqRecord(myseq, id=\"UID_0001\", annotations={\"molecule_type\": \"DNA\"})\n",
    "print(myrecord)"
   ]
  },
  {
   "cell_type": "markdown",
   "metadata": {},
   "source": [
    "#### Exercise 1.6\n",
    "\n",
    "Annotate the aforementioned record with the following information:\n",
    "- id: UID_0001\n",
    "- name: Imaginary gene\n",
    "- description: This is an imaginary gene.\n",
    "- source organism: Non-existent fish\n",
    "- molecule type: DNA\n",
    "- cross-references: SPDB:SP045, FNDB:FN0353\n",
    "\n",
    "Print the updated record."
   ]
  },
  {
   "cell_type": "code",
   "execution_count": 6,
   "metadata": {},
   "outputs": [
    {
     "name": "stdout",
     "output_type": "stream",
     "text": [
      "ID: UID_0001\n",
      "Name: Imaginary gene\n",
      "Description: This is an imaginary gene\n",
      "Database cross-references: SPDB:SP045, FNDB:FN0353\n",
      "Number of features: 0\n",
      "/source organism=Non-existent fish\n",
      "/molecule_type=DNA\n",
      "Seq('AGGTACCATGACTGGAACAGTATTACCGATAACGTAACATTTGGGA')\n"
     ]
    }
   ],
   "source": [
    "#myrecord.id=\"UID_0001\"\n",
    "myrecord.name=\"Imaginary gene\"\n",
    "myrecord.description=\"This is an imaginary gene\"\n",
    "myrecord.annotations['source organism']=\"Non-existent fish\"\n",
    "myrecord.dbxrefs = [\"SPDB:SP045\", \"FNDB:FN0353\"]\n",
    "print(myrecord)\n",
    "#myrecord.annotations={\"molecule_type\": \"DNA\"}"
   ]
  },
  {
   "cell_type": "markdown",
   "metadata": {},
   "source": [
    "#### Exercise 1.7\n",
    "\n",
    "Create the following sequence features (given in Python-style indexing) and add them to the record from the previous exercise:\n",
    "- CDS: 7-34\n",
    "- methylation site: 4\n",
    "\n",
    "Print the features."
   ]
  },
  {
   "cell_type": "code",
   "execution_count": 7,
   "metadata": {},
   "outputs": [
    {
     "name": "stdout",
     "output_type": "stream",
     "text": [
      "type: CDS\n",
      "location: [7:34]\n",
      "qualifiers:\n",
      "\n",
      "type: Methylation Site\n",
      "location: [4:4]\n",
      "qualifiers:\n",
      "\n"
     ]
    }
   ],
   "source": [
    "#Were the positions already in Python indexing or should these be 6:33 and 3?\n",
    "\n",
    "#I didn't quite follow what was meant to be done when said \"add them to the record from the previous exercise:\"\n",
    "\n",
    "#Should I use ExactPosition for the methylation site?\n",
    "#meths = BSF.ExactPosition(4)\n",
    "#print('Methylation site: '+str(meths))\n",
    "\n",
    "location = BSF.FeatureLocation(7, 34)\n",
    "feature = BSF.SeqFeature(location, type='CDS')\n",
    "#record.features.append(BSF.SeqFeature(methylationSite, type='Methylation Site'))\n",
    "\n",
    "methylationSite = BSF.FeatureLocation(4,4)\n",
    "#[4:5]\n",
    "methylation = BSF.SeqFeature(methylationSite, type='Methylation Site')\n",
    "\n",
    "print(feature)\n",
    "print(methylation)\n",
    "\n",
    "\n",
    "\n"
   ]
  },
  {
   "cell_type": "markdown",
   "metadata": {},
   "source": [
    "#### Exercise 1.8\n",
    "\n",
    "Extract the CDS region from the record annotated in the previous exercise. Translate the region and add the peptide sequence as a string to the annotation under the qualifier \"translation\".\n",
    "\n",
    "Print the updated feature."
   ]
  },
  {
   "cell_type": "code",
   "execution_count": 8,
   "metadata": {},
   "outputs": [
    {
     "name": "stdout",
     "output_type": "stream",
     "text": [
      "type: CDS\n",
      "location: [7:34]\n",
      "qualifiers:\n",
      "    Key: Translation, Value: MTGTVLPIT\n",
      "\n"
     ]
    }
   ],
   "source": [
    "#Extract the 7:34 region from the original sequence (saved as myseq)\n",
    "extraction = feature.extract(myseq)\n",
    "#Attach and translate the 7:34 region to the SeqFeature object \n",
    "feature.qualifiers['Translation'] = extraction.translate()\n",
    "#Print the feature\n",
    "print(feature)\n"
   ]
  }
 ],
 "metadata": {
  "kernelspec": {
   "display_name": "Python 3",
   "language": "python",
   "name": "python3"
  },
  "language_info": {
   "codemirror_mode": {
    "name": "ipython",
    "version": 3
   },
   "file_extension": ".py",
   "mimetype": "text/x-python",
   "name": "python",
   "nbconvert_exporter": "python",
   "pygments_lexer": "ipython3",
   "version": "3.8.5"
  }
 },
 "nbformat": 4,
 "nbformat_minor": 4
}
