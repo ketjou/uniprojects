{
 "cells": [
  {
   "cell_type": "markdown",
   "metadata": {},
   "source": [
    "# Exercises - week 4\n",
    "\n",
    "Write your solutions to the given cells (see \"WRITE YOUR CODE HERE\"). Make your code print only what is requested. Select `Kernel` &rightarrow; `Restart & Clear Output` and then `Cell` &rightarrow; `Run All` from the menu before submitting your solutions, so that your submission contains clean output produced from scratch."
   ]
  },
  {
   "cell_type": "markdown",
   "metadata": {},
   "source": [
    "#### Exercise 4.1\n",
    "\n",
    "Download http://purl.obolibrary.org/obo/go.obo and parse the file with the ready-made function in `GOtools.py`.\n",
    "\n",
    "Print the GO namespaces together with the number of GO terms within them, one per line."
   ]
  },
  {
   "cell_type": "code",
   "execution_count": 1,
   "metadata": {},
   "outputs": [],
   "source": [
    "#\"...with the number of GO terms within them...\" --> en oikein ymmärtänyt tätä kohtaa\n",
    "# eikö tämä ole aina kolme, jos TERM -tuple ottaa muuttujikseen aina [id', 'name', 'namespace']?\n",
    "\n",
    "import Bio.SeqIO as BSIO\n",
    "\n",
    "import re as R\n",
    "import collections as C\n",
    "\n",
    "# matches stanza header\n",
    "r_header = R.compile(r'^\\[(\\w+)\\]$')\n",
    "# matches tag:value\n",
    "r_tag = R.compile(r'^(.*?): (.*)( ! .*)?$')\n",
    "# named tuple\n",
    "Term = C.namedtuple('Term', ['id', 'name', 'namespace'])\n",
    "\n",
    "def parse_go_obo(go_obo_file):\n",
    "    # result dictionary\n",
    "    go = {}\n",
    "    # current stanza data\n",
    "    head = ''\n",
    "    data = {}\n",
    "    # process one line at the time\n",
    "    with open(go_obo_file, 'rt') as f:\n",
    "        for line in f:\n",
    "            # strip newline\n",
    "            line = line.strip()\n",
    "            # skip over empty lines\n",
    "            if not line:\n",
    "                continue\n",
    "            # check if new stanza is encountered\n",
    "            header = r_header.match(line)\n",
    "            if header:\n",
    "                # flush current term if any\n",
    "                if head == 'Term' and len(data) == 3:\n",
    "                    term = Term(**data)\n",
    "                    go[term.id] = term\n",
    "                # start new stanza\n",
    "                head = header.group(1)\n",
    "                data = {}\n",
    "            else:\n",
    "                # collect data\n",
    "                tag, value, _ = r_tag.match(line).groups()\n",
    "                # store only needed tags\n",
    "                if tag in ['id', 'name', 'namespace']:\n",
    "                    data[tag] = value\n",
    "        # flush the last term\n",
    "        if head == 'Term' and len(data) == 3:\n",
    "            term = Term(**data)\n",
    "            go[term.id] = term\n",
    "    # return result\n",
    "    return go\n",
    "\n"
   ]
  },
  {
   "cell_type": "code",
   "execution_count": 1,
   "metadata": {},
   "outputs": [
    {
     "ename": "NameError",
     "evalue": "name 'parse_go_obo' is not defined",
     "output_type": "error",
     "traceback": [
      "\u001b[1;31m---------------------------------------------------------------------------\u001b[0m",
      "\u001b[1;31mNameError\u001b[0m                                 Traceback (most recent call last)",
      "\u001b[1;32m<ipython-input-1-34ac2e90535b>\u001b[0m in \u001b[0;36m<module>\u001b[1;34m\u001b[0m\n\u001b[0;32m      4\u001b[0m \u001b[1;31m# on ollut vaikea hahmottaa rakennetta.\u001b[0m\u001b[1;33m\u001b[0m\u001b[1;33m\u001b[0m\u001b[1;33m\u001b[0m\u001b[0m\n\u001b[0;32m      5\u001b[0m \u001b[1;33m\u001b[0m\u001b[0m\n\u001b[1;32m----> 6\u001b[1;33m \u001b[0mgo\u001b[0m \u001b[1;33m=\u001b[0m \u001b[0mparse_go_obo\u001b[0m\u001b[1;33m(\u001b[0m\u001b[1;34m'go.obo'\u001b[0m\u001b[1;33m)\u001b[0m\u001b[1;33m\u001b[0m\u001b[1;33m\u001b[0m\u001b[0m\n\u001b[0m\u001b[0;32m      7\u001b[0m \u001b[1;31m#for k in go:\u001b[0m\u001b[1;33m\u001b[0m\u001b[1;33m\u001b[0m\u001b[1;33m\u001b[0m\u001b[0m\n\u001b[0;32m      8\u001b[0m  \u001b[1;31m#   print(k, go[k].namespace, len(go[k]))\u001b[0m\u001b[1;33m\u001b[0m\u001b[1;33m\u001b[0m\u001b[1;33m\u001b[0m\u001b[0m\n",
      "\u001b[1;31mNameError\u001b[0m: name 'parse_go_obo' is not defined"
     ]
    }
   ],
   "source": [
    "# Kiitos kun selvensit aivan rautalangasta, miten näihin pääsee käsiksi.\n",
    "# Minulle jotenkin tuottaa vaikeuksia ymmärtää monitahoisia sisennyksiä. \n",
    "# Tässäkin tapuksessa kun muuttuja on sanakirja, jonka \"sisällä\" on toinen hakemisto, \n",
    "# on ollut vaikea hahmottaa rakennetta.\n",
    "\n",
    "go = parse_go_obo('go.obo')\n",
    "#for k in go:\n",
    " #   print(k, go[k].namespace, len(go[k]))\n",
    "    \n",
    "# k iteroi go tiedoston\n",
    "#k tulostaa avainsanan, go[k].name tarvitaan arvon tulostamiseksi, len() tulostaa tuplen koon.\n",
    "\n",
    "counts = C.Counter([terms.namespace for terms in go.values()])\n",
    "\n",
    "for terms, count in counts.items():\n",
    "    print(terms,count)"
   ]
  },
  {
   "cell_type": "markdown",
   "metadata": {},
   "source": [
    "#### Exercise 4.2\n",
    "\n",
    "Find the GO terms that the UniProt entry P0A183 is annotated with. Only consider those terms that belong to the `cellular component` namespace.\n",
    "\n",
    "Print the IDs of the terms together with their human-friendly names, one per line."
   ]
  },
  {
   "cell_type": "code",
   "execution_count": 3,
   "metadata": {},
   "outputs": [
    {
     "name": "stdout",
     "output_type": "stream",
     "text": [
      "GO:0003677 / DNA binding / molecular_function\n",
      "GO:0006355 / regulation of transcription, DNA-templated / biological_process\n",
      "GO:0045340 / mercury ion binding / molecular_function\n",
      "GO:0046689 / response to mercury ion / biological_process\n"
     ]
    }
   ],
   "source": [
    "# Tälle ratkaisulle sopii nauraa, on kuin söisi veitsellä soppaa\n",
    "# ja kaiken lisäksi en löytänyt yhtään cellular component namespacea\n",
    "\n",
    "# pitikö tässä tulostaa Termsit vai pelkät niiden sisllä olleet arvot?\n",
    "\n",
    "# tyhjiä apulistoja\n",
    "protGO = []\n",
    "searchList = []\n",
    "searchList2 = []\n",
    "\n",
    "for rec in BSIO.parse(\"P0A183.xml\", \"uniprot-xml\"):\n",
    "    protGO = rec.dbxrefs[4:8]\n",
    "# Uniprotista ladatun tiedoston dbxrefsistä eristetään GO:t\n",
    "# tulostin listan ja katsoin GO:n olevan listan 4-7\n",
    "# Tallennetaan ne listaan\n",
    "    \n",
    "for x in protGO:\n",
    "    searchList.append(x.lstrip('GO:'))\n",
    "#Ovat muotoa GO:GO:...\n",
    "#Otetaan GO:t pois \n",
    "    \n",
    "for y in searchList:\n",
    "    searchList2.append(\"GO:\"+y)\n",
    "#koska molemmat GO:t lähti ja GO entryihin tarvitaan GO\n",
    "# kiinnitetään teksti GO numeroiden eteen\n",
    "\n",
    "go = parse_go_obo('go.obo')\n",
    "\n",
    "#Nyt muodostetaan kaksi luuppia molempiin listoihin\n",
    "for q in searchList2:\n",
    "    for k in go:\n",
    "            if(k.find(q)!=-1):\n",
    "                #jos annotaatiolistassa on IDlistan id (arvo ei ole -1)\n",
    "                print(go[k].id + \" / \" + go[k].name + \" / \" + go[k].namespace)\n",
    "                #tulostetaan annotaatiolistan ID:t, nimi ja namespace\n",
    "            \n",
    "\n",
    "\n",
    "        \n"
   ]
  },
  {
   "cell_type": "markdown",
   "metadata": {},
   "source": [
    "#### Exercise 4.3\n",
    "\n",
    "Sort the (ID, name) pairs found in the previous exercise alphabetically by human-friendly name.\n",
    "\n",
    "Print the sorted pairs, one per line."
   ]
  },
  {
   "cell_type": "code",
   "execution_count": 4,
   "metadata": {},
   "outputs": [
    {
     "name": "stdout",
     "output_type": "stream",
     "text": [
      "DNA binding GO:0003677\n",
      "mercury ion binding GO:0045340\n",
      "regulation of transcription, DNA-templated GO:0006355\n",
      "response to mercury ion GO:0046689\n"
     ]
    }
   ],
   "source": [
    "# En keksinyt tähän mitään muuta kuin kiertää ongelma\n",
    "# Tein tuplen, johon ensin tulee nimi ja sitten id ja jonka tulostin\n",
    "# Yritin namedtuplea, mutten osannut tehdä sitä iteroimalla\n",
    "\n",
    "alphalist = ()\n",
    "for q in searchList2:\n",
    "    for k in go:\n",
    "            if(k.find(q)!=-1):\n",
    "                #jos annotaatiolistassa on IDlistan id (arvo ei ole -1)\n",
    "                alphalist = alphalist+(go[k].name+ \" \" + go[k].id,)\n",
    "\n",
    "for x in (sorted(alphalist)):\n",
    "    print(x)"
   ]
  },
  {
   "cell_type": "code",
   "execution_count": 5,
   "metadata": {},
   "outputs": [
    {
     "name": "stdout",
     "output_type": "stream",
     "text": [
      "response to mercury ion\n"
     ]
    }
   ],
   "source": [
    "from collections import namedtuple\n",
    "# Create a namedtuple\n",
    "Hitsi = namedtuple(typename=\"Hitsi\", field_names=[\"name\", \"ID\"])\n",
    "for q in searchList2:\n",
    "    for k in go:\n",
    "            if(k.find(q)!=-1):\n",
    "                #jos annotaatiolistassa on IDlistan id (arvo ei ole -1)\n",
    "                #alphalist = alphalist+(go[k].name+ \" \" + go[k].id,)\n",
    "                hitsi = Hitsi(name = go[k].name, ID = go[k].id)\n",
    "                \n",
    "print(hitsi.name)"
   ]
  },
  {
   "cell_type": "markdown",
   "metadata": {},
   "source": [
    "#### Exercise 4.4\n",
    "\n",
    "The file `exercise-44.fasta` contains two protein sequences in the FASTA format. Run a BLAST query for those sequences against the Protein Data Bank (pdb). Save the results to a file named `exercise-44.blast`.\n",
    "\n",
    "Print the number of hits in each query result, one per line."
   ]
  },
  {
   "cell_type": "code",
   "execution_count": 6,
   "metadata": {},
   "outputs": [
    {
     "name": "stdout",
     "output_type": "stream",
     "text": [
      "Hits in Q1: 9\n",
      "Hits in Q2: 23\n"
     ]
    }
   ],
   "source": [
    "# En taaskaan ymmärrä:\n",
    "\n",
    "#Print the number of hits in each query result, one per line\n",
    "\n",
    "# Olisiko tässä pitänyt printata kuinka monta osumaa on/kysely \n",
    "# VAI\n",
    "# olisiko pitänyt printata yksitellen osumat/kysely\n",
    "\n",
    "\n",
    "\n",
    "import Bio.Blast.NCBIWWW as BBNW\n",
    "import Bio.Seq as BS\n",
    "import Bio.SearchIO as BSIO\n",
    "\n",
    "with open('exercise-44.fasta') as f:\n",
    "    fasta = f.read()\n",
    "    query = fasta\n",
    "    #tässä käytä parsea BSIO.parse ja saa olla otsakkeet\n",
    "    #jos haluat listamuodossa kaiken --> list(BSIO.parse...)\n",
    "    #for result in list(BSIO.parse(...))\n",
    "    #result = BISO.parse(blast-result.xml, blast,xml)\n",
    "    #for x in result:\n",
    "    # print x\n",
    "    \n",
    "    \n",
    "# BLAST program to use\n",
    "program = \"blastp\"\n",
    "# database to search against\n",
    "database = \"pdb\"\n",
    "# query sequence as a Seq object\n",
    "query = query\n",
    "\n",
    "\n",
    "handle = BBNW.qblast(program, database, query)\n",
    "with open('exercise-44.blast', 'w') as f:\n",
    "    f.write(handle.read())\n",
    "    \n",
    "    \n",
    "# parse file content into several QueryResult objects\n",
    "\n",
    "nl = []\n",
    "with open('exercise-44.blast') as f:\n",
    "    # one QueryResult per query sequence\n",
    "    for r in BSIO.parse(f, 'blast-xml'):\n",
    "       # print(r)\n",
    "        nl.append(r)\n",
    "#liitä listaan, jossa listan[0] on protein1 ja [1] on protein2\n",
    "        \n",
    "\n",
    "print(\"Hits in Q1: \" + str(len(nl[0])) + \"\\n\" + \"Hits in Q2: \" + str(len(nl[1])))"
   ]
  },
  {
   "cell_type": "markdown",
   "metadata": {},
   "source": [
    "#### Exercise 4.5\n",
    "\n",
    "Filter the hits obtained in the previous exercise such that only HSPs with E-value $<10^{-4}$ remain. Only process the query result for the first of the two query sequences.\n",
    "\n",
    "Print the accession numbers of the database entries represented by the filtered hits."
   ]
  },
  {
   "cell_type": "code",
   "execution_count": 7,
   "metadata": {},
   "outputs": [
    {
     "name": "stdout",
     "output_type": "stream",
     "text": [
      "4UA1_A\n",
      "4UA2_A\n",
      "\n",
      "\n",
      "3FE4_A\n"
     ]
    }
   ],
   "source": [
    "#  Only process the query result for the first of the two query sequences.\n",
    "# ^ Mitä tämä käytännössä tarkoittaa?\n",
    "# Jos filtteröin 10^(-4):llä, ei jää kuin toiseen 2 ja toiseen 1?\n",
    "\n",
    "Q1 = nl[0]\n",
    "Q2 = nl[1]\n",
    "\n",
    "fn = lambda hsp: hsp.evalue < 0.0001\n",
    "\n",
    "Q1_filtered = Q1.hsp_filter(fn)\n",
    "Q2_filtered = Q2.hsp_filter(fn)\n",
    "\n",
    "for g in Q1_filtered:\n",
    "    print(g.accession)\n",
    "print('\\n')\n",
    "for d in Q2_filtered:\n",
    "    print(d.accession)"
   ]
  },
  {
   "cell_type": "markdown",
   "metadata": {},
   "source": [
    "#### Exercise 4.6\n",
    "\n",
    "Sort the hits obtained in the exercise 4.4 by E-value in ascending order. For each hit, use the smallest E-value of its HSPs.\n",
    "\n",
    "Print the accession numbers together with the used E-values in the sorted order, one per line."
   ]
  },
  {
   "cell_type": "code",
   "execution_count": 4,
   "metadata": {},
   "outputs": [
    {
     "ename": "NameError",
     "evalue": "name 'Q1' is not defined",
     "output_type": "error",
     "traceback": [
      "\u001b[1;31m---------------------------------------------------------------------------\u001b[0m",
      "\u001b[1;31mNameError\u001b[0m                                 Traceback (most recent call last)",
      "\u001b[1;32m<ipython-input-4-05ca91decd96>\u001b[0m in \u001b[0;36m<module>\u001b[1;34m\u001b[0m\n\u001b[0;32m      6\u001b[0m \u001b[1;33m\u001b[0m\u001b[0m\n\u001b[0;32m      7\u001b[0m \u001b[1;33m\u001b[0m\u001b[0m\n\u001b[1;32m----> 8\u001b[1;33m \u001b[1;32mfor\u001b[0m \u001b[0mx\u001b[0m \u001b[1;32min\u001b[0m \u001b[0mQ1\u001b[0m\u001b[1;33m:\u001b[0m\u001b[1;33m\u001b[0m\u001b[1;33m\u001b[0m\u001b[0m\n\u001b[0m\u001b[0;32m      9\u001b[0m     \u001b[1;32mfor\u001b[0m \u001b[0me\u001b[0m \u001b[1;32min\u001b[0m \u001b[0mx\u001b[0m\u001b[1;33m:\u001b[0m\u001b[1;33m\u001b[0m\u001b[1;33m\u001b[0m\u001b[0m\n\u001b[0;32m     10\u001b[0m         \u001b[0mfn\u001b[0m \u001b[1;33m=\u001b[0m \u001b[1;32mlambda\u001b[0m \u001b[0mhit\u001b[0m\u001b[1;33m:\u001b[0m \u001b[0me\u001b[0m\u001b[1;33m.\u001b[0m\u001b[0mevalue\u001b[0m\u001b[1;33m\u001b[0m\u001b[1;33m\u001b[0m\u001b[0m\n",
      "\u001b[1;31mNameError\u001b[0m: name 'Q1' is not defined"
     ]
    }
   ],
   "source": [
    "#Vaikka ratkaisumetodi on todennäköisesti väärä, olen todella \n",
    "#iloinen että osasin tehdä jotain tämän kaltaista!\n",
    "\n",
    "# key function to sort by hit evalue\n",
    "# use two for loops to acces HSP objects and pick the e-values\n",
    "\n",
    "\n",
    "for x in Q1:\n",
    "    for e in x:\n",
    "        fn = lambda hit: e.evalue\n",
    "Q1_sorted = Q1.sort(key=fn, reverse=True, in_place=False)\n",
    "\n",
    "for w in Q1:\n",
    "    for t in w:\n",
    "        fn = lambda hit: t.evalue\n",
    "Q2_sorted = Q2.sort(key=fn, reverse=True, in_place=False)\n",
    "\n",
    "print(\"Q1 Accession: \\t Q1 E-value: \\t\")\n",
    "for value in Q1_sorted:\n",
    "    for this in value:\n",
    "        print(this.hit_id + \"\\t\" + str(this.evalue))\n",
    "\n",
    "print(\"\\n\")       \n",
    "print(\"Q2 Accession: \\t Q2 E-value: \\t\")\n",
    "for value in Q2_sorted:\n",
    "    for this in value:\n",
    "        print(this.hit_id.split('|')[1] + \"\\t\" + str(this.evalue))\n",
    "        #to get only numbers"
   ]
  },
  {
   "cell_type": "markdown",
   "metadata": {},
   "source": [
    "#### Exercise 4.7\n",
    "\n",
    "Calculate the percent identity (i.e. the ratio between the number of identical residues and the alignment length) of each HSP obtained in the exercise 4.4.\n",
    "\n",
    "Print each percent identity value together with the corresponding accession number, one per line."
   ]
  },
  {
   "cell_type": "code",
   "execution_count": 25,
   "metadata": {},
   "outputs": [
    {
     "name": "stdout",
     "output_type": "stream",
     "text": [
      "Q1 Identity%: Q1 Accession:\n",
      "89.47\t\tpdb|4UA1|A\n",
      "89.47\t\tpdb|4UA2|A\n",
      "68.42\t\tpdb|3GP4|A\n",
      "52.63\t\tpdb|3GPV|A\n",
      "47.37\t\tpdb|4WLW|A\n",
      "47.37\t\tpdb|6LDI|G\n",
      "47.37\t\tpdb|1Q05|A\n",
      "47.37\t\tpdb|4WLS|A\n",
      "47.37\t\tpdb|6JGV|A\n"
     ]
    }
   ],
   "source": [
    "#print(hsp, end='\\n\\n')\n",
    "# alignment length\n",
    "# HSP_identity / HSP_align_length\n",
    "# number of identical residues in the alignment\n",
    "print(\"Q1 Identity%: Q1 Accession:\")\n",
    "for sp in Q1:\n",
    "    for hsp in sp:\n",
    "        print(str((\"%.2f\" % (hsp.ident_num/hsp.aln_span*100)))+\"\\t\\t\"+hsp.hit_id)\n",
    "    #pyöristin kahteen desimaaliin, olisiko pitänyt olla kaikki"
   ]
  },
  {
   "cell_type": "code",
   "execution_count": 24,
   "metadata": {},
   "outputs": [
    {
     "name": "stdout",
     "output_type": "stream",
     "text": [
      "Q2 Identity%: Q2 Accession:\n",
      "88.89\t\tpdb|3FE4|A\n",
      "61.11\t\tpdb|6QUT|A\n",
      "61.11\t\tpdb|6Y74|A\n",
      "66.67\t\tpdb|1FLJ|A\n",
      "61.11\t\tpdb|6TL5|A\n",
      "66.67\t\tpdb|1Z97|A\n",
      "66.67\t\tpdb|1Z93|A\n",
      "61.11\t\tpdb|3IAI|A\n",
      "66.67\t\tpdb|3UYN|A\n",
      "66.67\t\tpdb|3UYQ|A\n",
      "61.11\t\tpdb|6RQN|A\n",
      "66.67\t\tpdb|2HFW|A\n",
      "61.11\t\tpdb|5DVX|A\n",
      "50.00\t\tpdb|6QQM|A\n",
      "38.89\t\tpdb|3JXF|A\n",
      "38.89\t\tpdb|3S97|A\n",
      "66.67\t\tpdb|6AT7|A\n",
      "64.71\t\tpdb|1V9I|C\n",
      "66.67\t\tpdb|6AT7|B\n",
      "64.71\t\tpdb|5A25|A\n",
      "64.71\t\tpdb|1V9E|A\n",
      "64.71\t\tpdb|4CNR|A\n",
      "64.71\t\tpdb|4CNV|A\n"
     ]
    }
   ],
   "source": [
    "print(\"Q2 Identity%: Q2 Accession:\")\n",
    "for it in Q2:\n",
    "    for dat in it:\n",
    "        print(str((\"%.2f\" % (dat.ident_num/dat.aln_span*100)))+\"\\t\\t\"+dat.hit_id)"
   ]
  },
  {
   "cell_type": "markdown",
   "metadata": {},
   "source": [
    "#### Exercise 4.8\n",
    "\n",
    "Calculate the percent coverage (i.e. the ratio between the length of the query sequence segment that matched and the length of the full query sequence) of each HSP obtained in the exercise 4.4.\n",
    "\n",
    "Print each percent coverage value together with the corresponding accession number, one per line."
   ]
  },
  {
   "cell_type": "code",
   "execution_count": 47,
   "metadata": {},
   "outputs": [
    {
     "name": "stdout",
     "output_type": "stream",
     "text": [
      "Q2 Identity%: Q2 Accession:\n",
      "6.47\t\tpdb|3FE4|A\n",
      "7.17\t\tpdb|6QUT|A\n",
      "6.98\t\tpdb|6Y74|A\n",
      "6.92\t\tpdb|1FLJ|A\n",
      "7.0\t\tpdb|6TL5|A\n",
      "6.77\t\tpdb|1Z97|A\n",
      "6.77\t\tpdb|1Z93|A\n",
      "7.0\t\tpdb|3IAI|A\n",
      "6.92\t\tpdb|3UYN|A\n",
      "6.92\t\tpdb|3UYQ|A\n",
      "7.03\t\tpdb|6RQN|A\n",
      "6.92\t\tpdb|2HFW|A\n",
      "6.92\t\tpdb|5DVX|A\n",
      "6.0\t\tpdb|6QQM|A\n",
      "6.62\t\tpdb|3JXF|A\n",
      "6.59\t\tpdb|3S97|A\n",
      "1.71\t\tpdb|6AT7|A\n",
      "6.51\t\tpdb|1V9I|C\n",
      "1.71\t\tpdb|6AT7|B\n",
      "6.54\t\tpdb|5A25|A\n",
      "6.56\t\tpdb|1V9E|A\n",
      "6.49\t\tpdb|4CNR|A\n",
      "6.49\t\tpdb|4CNV|A\n"
     ]
    }
   ],
   "source": [
    "# tämä tuotti päänvaivaa, enkä vieläkään tiedä olenko oikeassa\n",
    "# onko \"length of the full query sequence\" = seq_len?\n",
    "# muutoin päädyn jakamaan aln_span/aln_span\n",
    "\n",
    "print(\"Q2 Identity%: Q2 Accession:\")\n",
    "for it in Q2:\n",
    "    x=it.seq_len\n",
    "    for dat in it:\n",
    "        y = round(dat.query_span/x*100,2)\n",
    "        print(str(y)+\"\\t\\t\"+dat.hit_id)"
   ]
  },
  {
   "cell_type": "code",
   "execution_count": 5,
   "metadata": {},
   "outputs": [
    {
     "name": "stdout",
     "output_type": "stream",
     "text": [
      "Q1 Identity%: Q1 Accession:\n"
     ]
    },
    {
     "ename": "NameError",
     "evalue": "name 'Q1' is not defined",
     "output_type": "error",
     "traceback": [
      "\u001b[1;31m---------------------------------------------------------------------------\u001b[0m",
      "\u001b[1;31mNameError\u001b[0m                                 Traceback (most recent call last)",
      "\u001b[1;32m<ipython-input-5-906ae3c721cc>\u001b[0m in \u001b[0;36m<module>\u001b[1;34m\u001b[0m\n\u001b[0;32m      1\u001b[0m \u001b[0mprint\u001b[0m\u001b[1;33m(\u001b[0m\u001b[1;34m\"Q1 Identity%: Q1 Accession:\"\u001b[0m\u001b[1;33m)\u001b[0m\u001b[1;33m\u001b[0m\u001b[1;33m\u001b[0m\u001b[0m\n\u001b[1;32m----> 2\u001b[1;33m \u001b[1;32mfor\u001b[0m \u001b[0mit\u001b[0m \u001b[1;32min\u001b[0m \u001b[0mQ1\u001b[0m\u001b[1;33m:\u001b[0m\u001b[1;33m\u001b[0m\u001b[1;33m\u001b[0m\u001b[0m\n\u001b[0m\u001b[0;32m      3\u001b[0m     \u001b[0mx\u001b[0m\u001b[1;33m=\u001b[0m\u001b[0mit\u001b[0m\u001b[1;33m.\u001b[0m\u001b[0mseq_len\u001b[0m\u001b[1;33m\u001b[0m\u001b[1;33m\u001b[0m\u001b[0m\n\u001b[0;32m      4\u001b[0m     \u001b[1;32mfor\u001b[0m \u001b[0mdat\u001b[0m \u001b[1;32min\u001b[0m \u001b[0mit\u001b[0m\u001b[1;33m:\u001b[0m\u001b[1;33m\u001b[0m\u001b[1;33m\u001b[0m\u001b[0m\n\u001b[0;32m      5\u001b[0m         \u001b[0my\u001b[0m \u001b[1;33m=\u001b[0m \u001b[0mround\u001b[0m\u001b[1;33m(\u001b[0m\u001b[0mdat\u001b[0m\u001b[1;33m.\u001b[0m\u001b[0mquery_span\u001b[0m\u001b[1;33m/\u001b[0m\u001b[0mx\u001b[0m\u001b[1;33m*\u001b[0m\u001b[1;36m100\u001b[0m\u001b[1;33m,\u001b[0m\u001b[1;36m2\u001b[0m\u001b[1;33m)\u001b[0m\u001b[1;33m\u001b[0m\u001b[1;33m\u001b[0m\u001b[0m\n",
      "\u001b[1;31mNameError\u001b[0m: name 'Q1' is not defined"
     ]
    }
   ],
   "source": [
    "print(\"Q1 Identity%: Q1 Accession:\")\n",
    "#olisi pitänyt olla q1.seq_len\n",
    "for it in Q1:\n",
    "    x=it.seq_len\n",
    "    for dat in it:\n",
    "        y = round(dat.query_span/x*100,2)\n",
    "        #query_span on oikea, kertoo koko pituuden\n",
    "        print(str(y)+\"\\t\\t\"+dat.hit_id)"
   ]
  },
  {
   "cell_type": "code",
   "execution_count": null,
   "metadata": {},
   "outputs": [],
   "source": []
  }
 ],
 "metadata": {
  "kernelspec": {
   "display_name": "Python 3",
   "language": "python",
   "name": "python3"
  },
  "language_info": {
   "codemirror_mode": {
    "name": "ipython",
    "version": 3
   },
   "file_extension": ".py",
   "mimetype": "text/x-python",
   "name": "python",
   "nbconvert_exporter": "python",
   "pygments_lexer": "ipython3",
   "version": "3.8.5"
  }
 },
 "nbformat": 4,
 "nbformat_minor": 2
}
