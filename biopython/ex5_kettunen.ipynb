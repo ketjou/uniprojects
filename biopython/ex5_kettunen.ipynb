{
 "cells": [
  {
   "cell_type": "markdown",
   "metadata": {},
   "source": [
    "# Exercises - week 5\n",
    "\n",
    "Write your solutions to the given cells (see \"WRITE YOUR CODE HERE\"). Make your code print only what is requested. Select `Kernel` &rightarrow; `Restart & Clear Output` and then `Cell` &rightarrow; `Run All` from the menu before submitting your solutions, so that your submission contains clean output produced from scratch."
   ]
  },
  {
   "cell_type": "markdown",
   "metadata": {},
   "source": [
    "#### Exercise 5.1\n",
    "\n",
    "Create a global pairwise sequence alignment of the two sequences found in the file `exercise-51.fasta`. Use the following scoring scheme: 2 for a match, -1 for a mismatch and no gap penalty.\n",
    "\n",
    "Print one of the best-scoring alignments."
   ]
  },
  {
   "cell_type": "code",
   "execution_count": 1,
   "metadata": {},
   "outputs": [],
   "source": [
    "import Bio.Align as BA\n",
    "import Bio.Align.Applications as BAA\n",
    "import Bio.Align.AlignInfo as BAAI\n",
    "import Bio.AlignIO as BAIO\n",
    "import Bio.pairwise2 as BP\n",
    "import Bio.SeqRecord as BSR"
   ]
  },
  {
   "cell_type": "code",
   "execution_count": 14,
   "metadata": {},
   "outputs": [
    {
     "name": "stdout",
     "output_type": "stream",
     "text": [
      "ATC-CTTACGA-GC---T-AGC-TATCGCTGCT-GT-CGAGCCCACACA-AGGTAGCCTGAGCG\n",
      "||  ||||  | ||   | ||| |||||||||| || ||| ||| | || ||||    ||||||\n",
      "AT-TCTTA--AAGCCGATCAGCATATCGCTGCTTGTTCGA-CCC-C-CACAGGT----TGAGCG\n",
      "  Score=88\n",
      "\n"
     ]
    }
   ],
   "source": [
    "with open(\"C:\\\\Users\\JK\\Desktop\\BioPyt\\ex\\exercise-51.fasta\") as f:\n",
    "    newones = f.read().split('\\n')\n",
    "\n",
    "#Nappasin listasta 1 ja 3 paikalla olleet sekvenssit, kiinnitin ne funktioon\n",
    "#määritin tulostamaan vain yhden HSP:n\n",
    "#API:n mukaan ...MX 2,-1 antaisi ohjeen mukaiset pisteytykset\n",
    "for a in BP.align.globalmx(newones[1], newones[3], 2, -1, one_alignment_only=True):\n",
    "    print(BP.format_alignment(*a))"
   ]
  },
  {
   "cell_type": "markdown",
   "metadata": {},
   "source": [
    "#### Exercise 5.2\n",
    "\n",
    "Create a local pairwise sequence alignment of the two sequences found in the file `exercise-52.fasta`. Use the PAM250 subsitution matrix and a gap score -2 as the scoring scheme.\n",
    "\n",
    "Print one of the best-scoring alignments."
   ]
  },
  {
   "cell_type": "code",
   "execution_count": 10,
   "metadata": {},
   "outputs": [
    {
     "name": "stdout",
     "output_type": "stream",
     "text": [
      "ATC-CTTACGA-GC---T-AGC-TATCGCTGCT-GT-CGAGCCCACACA-AGGTAGCCTGAGCG\n",
      "||  ||||  | ||   | ||| |||||||||| || ||| ||| | || ||||    ||||||\n",
      "AT-TCTTA--AAGCCGATCAGCATATCGCTGCTTGTTCGA-CCC-C-CACAGGT----TGAGCG\n",
      "  Score=88\n",
      "\n"
     ]
    }
   ],
   "source": [
    "with open(\"C:\\\\Users\\JK\\Desktop\\BioPyt\\ex\\exercise-52.fasta\") as f:\n",
    "    seqs = f.read().strip().split('\\n')\n",
    "\n",
    "#PAM250:n lataaminen\n",
    "matrix = BA.substitution_matrices.load('PAM250')\n",
    "# Tehtävänannossa ei erikseen mainittu gap open ja extend arvoja, oletin molempien olevan -2.\n",
    "alNext = BP.align.localds(newones[1], newones[3], matrix, -2, -2,one_alignment_only=True)\n",
    "print(BP.format_alignment(*a))\n"
   ]
  },
  {
   "cell_type": "code",
   "execution_count": 4,
   "metadata": {},
   "outputs": [
    {
     "ename": "NameError",
     "evalue": "name 'records' is not defined",
     "output_type": "error",
     "traceback": [
      "\u001b[1;31m---------------------------------------------------------------------------\u001b[0m",
      "\u001b[1;31mNameError\u001b[0m                                 Traceback (most recent call last)",
      "\u001b[1;32m<ipython-input-4-3d71a8799b71>\u001b[0m in \u001b[0;36m<module>\u001b[1;34m\u001b[0m\n\u001b[1;32m----> 1\u001b[1;33m \u001b[0mprint\u001b[0m\u001b[1;33m(\u001b[0m\u001b[0mrecords\u001b[0m\u001b[1;33m[\u001b[0m\u001b[1;36m0\u001b[0m\u001b[1;33m]\u001b[0m\u001b[1;33m.\u001b[0m\u001b[0mseq\u001b[0m\u001b[1;33m)\u001b[0m\u001b[1;33m\u001b[0m\u001b[1;33m\u001b[0m\u001b[0m\n\u001b[0m\u001b[0;32m      2\u001b[0m \u001b[0mprint\u001b[0m\u001b[1;33m(\u001b[0m\u001b[0mrecords\u001b[0m\u001b[1;33m[\u001b[0m\u001b[1;36m1\u001b[0m\u001b[1;33m]\u001b[0m\u001b[1;33m.\u001b[0m\u001b[0mseq\u001b[0m\u001b[1;33m)\u001b[0m\u001b[1;33m\u001b[0m\u001b[1;33m\u001b[0m\u001b[0m\n",
      "\u001b[1;31mNameError\u001b[0m: name 'records' is not defined"
     ]
    }
   ],
   "source": [
    "print(records[0].seq)\n",
    "print(records[1].seq)"
   ]
  },
  {
   "cell_type": "markdown",
   "metadata": {},
   "source": [
    "#### Exercise 5.3\n",
    "\n",
    "Create a MultipleSeqAlignment object containing the alignment obtained in the exercise 5.2. Count and print the number of alignment positions in which the two sequences are identical."
   ]
  },
  {
   "cell_type": "code",
   "execution_count": 5,
   "metadata": {},
   "outputs": [
    {
     "name": "stdout",
     "output_type": "stream",
     "text": [
      "(0, 'A') (0, 'A')\n",
      "(1, 'T') (1, 'T')\n",
      "(3, 'C') (3, 'C')\n",
      "(4, 'T') (4, 'T')\n",
      "(5, 'T') (5, 'T')\n",
      "(6, 'A') (6, 'A')\n",
      "(10, 'C') (10, 'C')\n",
      "(12, 'G') (12, 'G')\n",
      "(13, 'A') (13, 'A')\n",
      "(15, 'C') (15, 'C')\n",
      "(17, 'A') (17, 'A')\n",
      "(18, 'G') (18, 'G')\n",
      "(19, 'C') (19, 'C')\n",
      "(21, 'T') (21, 'T')\n",
      "(22, 'A') (22, 'A')\n",
      "(23, 'T') (23, 'T')\n",
      "(24, 'C') (24, 'C')\n",
      "(25, 'G') (25, 'G')\n",
      "(26, 'C') (26, 'C')\n",
      "(27, 'T') (27, 'T')\n",
      "(28, 'G') (28, 'G')\n",
      "(29, 'C') (29, 'C')\n",
      "(30, 'T') (30, 'T')\n",
      "(32, 'G') (32, 'G')\n",
      "(33, 'T') (33, 'T')\n",
      "(35, 'C') (35, 'C')\n",
      "(36, 'G') (36, 'G')\n",
      "(37, 'A') (37, 'A')\n",
      "(39, 'C') (39, 'C')\n",
      "(40, 'C') (40, 'C')\n",
      "(41, 'C') (41, 'C')\n",
      "(43, 'C') (43, 'C')\n",
      "(44, 'A') (44, 'A')\n",
      "(45, 'C') (45, 'C')\n",
      "(47, 'A') (47, 'A')\n",
      "(48, 'G') (48, 'G')\n",
      "(49, 'G') (49, 'G')\n",
      "(50, 'T') (50, 'T')\n",
      "(55, 'T') (55, 'T')\n",
      "(56, 'G') (56, 'G')\n",
      "(57, 'A') (57, 'A')\n",
      "(58, 'G') (58, 'G')\n",
      "(59, 'C') (59, 'C')\n",
      "(60, 'G') (60, 'G')\n",
      "Number of hits: 44\n"
     ]
    }
   ],
   "source": [
    "# Olisi kiva, jos voisit pitää yhden-kaksi työpajaa, joissa opettaisit\n",
    "# paremmin kuinka näitä käännellä ja mitä nämä objektit tarkemmin ovat (string, tuple, dictionary....)\n",
    "\n",
    "records = [BSR.SeqRecord(alNext[0].seqA, id='seq1'),\n",
    "           BSR.SeqRecord(alNext[0].seqB, id='seq2'),\n",
    "           BSR.SeqRecord(alNext[0].seqA, id='seq3'),\n",
    "           BSR.SeqRecord(alNext[0].seqB, id='seq4')]\n",
    "msa = BA.MultipleSeqAlignment(records)\n",
    "\n",
    "\n",
    "\n",
    "\n",
    "# En todellakaan tiedä oliko tämä järkevästi tehty, mutta sain tehtyä!\n",
    "# Enkä aivan ymmärrä, miksi enumerate() toimii, mutta x==y ei toimi\n",
    "# Liittyisikö siihen, että enumerate() pitää kirjaa iteraatioista?\n",
    "\n",
    "z = 0\n",
    "for v in enumerate(records[0].seq):\n",
    "    for x in enumerate(records[1].seq):\n",
    "        #jos palautusarvot ovat samat molemmissa sekvensseissä ja aukkoa ei ole  \n",
    "        if((v==x and v!=\"-\") == True):\n",
    "            # en tiedä tarvitaanko True == True, mutta jätin varmuudeksi\n",
    "            z += 1\n",
    "            # kasvata laskurin arvoa yhdellä\n",
    "            print(str(x) + \" \" +str(v))\n",
    "            # Tulosta paikat\n",
    "print(\"Number of hits: \" + str(z))\n",
    "\n"
   ]
  },
  {
   "cell_type": "markdown",
   "metadata": {},
   "source": [
    "#### Exercise 5.4\n",
    "\n",
    "Align the sequences found in the file `exercise-54.fasta` with MUSCLE. Use the default parameters. Save the alignment to a file named `exercise-54.output` in the FASTA format."
   ]
  },
  {
   "cell_type": "code",
   "execution_count": 7,
   "metadata": {},
   "outputs": [
    {
     "name": "stdout",
     "output_type": "stream",
     "text": [
      "44\n"
     ]
    }
   ],
   "source": [
    "count = sum(1 for i in range(msa.get_alignment_length())\n",
    "            if msa[0,i]==msa[1,i])\n",
    "print(count)"
   ]
  },
  {
   "cell_type": "code",
   "execution_count": 15,
   "metadata": {},
   "outputs": [
    {
     "name": "stdout",
     "output_type": "stream",
     "text": [
      "\n",
      "MUSCLE v3.8.31 by Robert C. Edgar\n",
      "\n",
      "http://www.drive5.com/muscle\n",
      "This software is donated to the public domain.\n",
      "Please cite: Edgar, R.C. Nucleic Acids Res 32(5), 1792-97.\n",
      "\n",
      "exercise-54 5 seqs, max length 28, avg  length 19\n",
      "00:00:00      6 MB(0%)  Iter   1    6.67%  K-mer dist pass 1\n",
      "00:00:00      6 MB(0%)  Iter   1  100.00%  K-mer dist pass 1\n",
      "\n",
      "00:00:00      6 MB(0%)  Iter   1    6.67%  K-mer dist pass 2\n",
      "00:00:00      6 MB(0%)  Iter   1  100.00%  K-mer dist pass 2\n",
      "\n",
      "00:00:00      6 MB(0%)  Iter   1   25.00%  Align node       \n",
      "00:00:00      7 MB(0%)  Iter   1   50.00%  Align node\n",
      "00:00:00      7 MB(0%)  Iter   1   75.00%  Align node\n",
      "00:00:00      7 MB(0%)  Iter   1  100.00%  Align node\n",
      "00:00:00      7 MB(0%)  Iter   1  100.00%  Align node\n",
      "\n",
      "00:00:00      7 MB(0%)  Iter   1   20.00%  Root alignment\n",
      "00:00:00      7 MB(0%)  Iter   1   40.00%  Root alignment\n",
      "00:00:00      7 MB(0%)  Iter   1   60.00%  Root alignment\n",
      "00:00:00      7 MB(0%)  Iter   1   80.00%  Root alignment\n",
      "00:00:00      7 MB(0%)  Iter   1  100.00%  Root alignment\n",
      "00:00:00      7 MB(0%)  Iter   1  100.00%  Root alignment\n",
      "\n",
      "00:00:00      7 MB(0%)  Iter   2  100.00%  Root alignment\n",
      "\n",
      "00:00:00      7 MB(0%)  Iter   3   28.57%  Refine biparts\n",
      "00:00:00      7 MB(0%)  Iter   3   42.86%  Refine biparts\n",
      "00:00:00      7 MB(0%)  Iter   3   57.14%  Refine biparts\n",
      "00:00:00      7 MB(0%)  Iter   3   71.43%  Refine biparts\n",
      "00:00:00      7 MB(0%)  Iter   3   85.71%  Refine biparts\n",
      "00:00:00      7 MB(0%)  Iter   3  100.00%  Refine biparts\n",
      "00:00:00      7 MB(0%)  Iter   3  114.29%  Refine biparts\n",
      "00:00:00      7 MB(0%)  Iter   3  100.00%  Refine biparts\n",
      "\n",
      "00:00:00      7 MB(0%)  Iter   4   28.57%  Refine biparts\n",
      "00:00:00      7 MB(0%)  Iter   4   42.86%  Refine biparts\n",
      "00:00:00      7 MB(0%)  Iter   4   57.14%  Refine biparts\n",
      "00:00:00      7 MB(0%)  Iter   4   71.43%  Refine biparts\n",
      "00:00:00      7 MB(0%)  Iter   4   85.71%  Refine biparts\n",
      "00:00:00      7 MB(0%)  Iter   4  100.00%  Refine biparts\n",
      "00:00:00      7 MB(0%)  Iter   4  114.29%  Refine biparts\n",
      "00:00:00      7 MB(0%)  Iter   4  100.00%  Refine biparts\n",
      "\n",
      "\n"
     ]
    }
   ],
   "source": [
    "\n",
    "#alSeq = [i for i in seqs if \">\" not in i]\n",
    "    \n",
    "program_path = 'muscle.exe'\n",
    "# check that the executable exists\n",
    "import os.path as OP\n",
    "assert OP.isfile(program_path), \"MUSCLE executable missing\"\n",
    "\n",
    "cmd = BAA.MuscleCommandline(cmd=program_path,\n",
    "                            input=\"exercise-54.fasta\",\n",
    "                            out=\"exercise-54.output.fasta\")\n",
    "# run MUSCLE\n",
    "stdout, stderr = cmd()\n",
    "# the progress is reported to STDERR\n",
    "print(stderr)\n"
   ]
  },
  {
   "cell_type": "markdown",
   "metadata": {},
   "source": [
    "#### Exercise 5.5\n",
    "\n",
    "Load the alignment from the file `exercise-54.output`. Select the positions 10 - 20 of the alignment and write the subsequence to a file named `exercise-55.phylip` in the PHYLIP format."
   ]
  },
  {
   "cell_type": "code",
   "execution_count": 22,
   "metadata": {},
   "outputs": [
    {
     "name": "stdout",
     "output_type": "stream",
     "text": [
      "Alignment with 5 rows and 12 columns\n",
      "TGE-ERKWRLL- seq1\n",
      "TGE-ERRLATT- seq2\n",
      "TGE-ERRLATTR seq3\n",
      "TTYYEEMMAKTR seq4\n",
      "--EYEEMMAKG- seq5\n"
     ]
    },
    {
     "data": {
      "text/plain": [
       "1"
      ]
     },
     "execution_count": 22,
     "metadata": {},
     "output_type": "execute_result"
    }
   ],
   "source": [
    "alignment = BAIO.read(\"exercise-54.output.fasta\", \"fasta\")\n",
    "# Oliko nämä python indeksissä vai \"tavallisia\" paikkoja?\n",
    "# oletin jälkimmäistä ja toimin sen mukaan\n",
    "print(alignment[:,9:21])\n",
    "\n",
    "BAIO.write([alignment[:,9:21]], 'exercise-55.phylip', 'phylip')"
   ]
  },
  {
   "cell_type": "markdown",
   "metadata": {},
   "source": [
    "#### Exercise 5.6\n",
    "\n",
    "Load the alignment from the file `exercise-54.output`. Find the position of the first gap character in each aligned sequence.\n",
    "\n",
    "Print the positions together with the corresponding sequence ids, one per line. (Use `*` if there is no gap in a sequence.)"
   ]
  },
  {
   "cell_type": "code",
   "execution_count": 39,
   "metadata": {},
   "outputs": [
    {
     "name": "stdout",
     "output_type": "stream",
     "text": [
      "0 seq1\n",
      "0 seq2\n",
      "12 seq3\n",
      "* seq4\n",
      "3 seq5\n"
     ]
    }
   ],
   "source": [
    "#on jo ladattu yllä\n",
    "\n",
    "for i in alignment:\n",
    "    if i.seq.find(\"-\") == -1:\n",
    "        print(\"* \" + i.id)\n",
    "    else:\n",
    "        print(str(i.seq.find(\"-\"))+\" \"+i.id)\n",
    "\n",
    "\n",
    "                "
   ]
  },
  {
   "cell_type": "markdown",
   "metadata": {},
   "source": [
    "#### Exercise 5.7\n",
    "\n",
    "Load the alignment from the file `exercise-54.output`. Calculate and print the consensus sequence with a 60% threshold with gap characters ignored."
   ]
  },
  {
   "cell_type": "code",
   "execution_count": 40,
   "metadata": {},
   "outputs": [
    {
     "name": "stdout",
     "output_type": "stream",
     "text": [
      "TECC.....TGEYER..A.TRTTGYMAW\n"
     ]
    }
   ],
   "source": [
    "# En ymmärtänyt, mitä odotetaan, kun pyydetään \"with gap characters ignored\" \n",
    "\n",
    "\n",
    "# create a summary object from the alignment\n",
    "summary = BAAI.SummaryInfo(alignment)\n",
    "\n",
    "# create a consensus sequence with 60%\n",
    "# (as a Seq object)\n",
    "consensus = summary.dumb_consensus(threshold=0.6, ambiguous='.')\n",
    "print(consensus)"
   ]
  },
  {
   "cell_type": "markdown",
   "metadata": {},
   "source": [
    "#### Exercise 5.8\n",
    "\n",
    "Load the alignment from the file `exercise-54.output`. Sort the sequences in ascending order by the number of gap characters in the aligned sequence.\n",
    "\n",
    "Print the sorted alignment."
   ]
  },
  {
   "cell_type": "code",
   "execution_count": 12,
   "metadata": {},
   "outputs": [
    {
     "name": "stdout",
     "output_type": "stream",
     "text": [
      "Alignment with 5 rows and 28 columns\n",
      "---------TGE-ERKWRLL----AMAW seq1\n",
      "---------TGE-ERRLATT----YMAW seq2\n",
      "TECCVCAAPTGE-ERRLATTRTTGYMAW seq3\n",
      "TECCWWCTATTYYEEMMAKTRTTGYMAW seq4\n",
      "TEC--------EYEEMMAKG----YMAW seq5\n",
      "\n",
      "\n",
      "Alignment with 5 rows and 28 columns\n",
      "TECCWWCTATTYYEEMMAKTRTTGYMAW seq4\n",
      "TECCVCAAPTGE-ERRLATTRTTGYMAW seq3\n",
      "TEC--------EYEEMMAKG----YMAW seq5\n",
      "---------TGE-ERRLATT----YMAW seq2\n",
      "---------TGE-ERKWRLL----AMAW seq1\n",
      "\n",
      "\n",
      "seq4 Counter({'T': 7, 'E': 3, 'C': 3, 'W': 3, 'A': 3, 'Y': 3, 'M': 3, 'K': 1, 'R': 1, 'G': 1})\n",
      "seq3 Counter({'T': 6, 'A': 4, 'E': 3, 'C': 3, 'R': 3, 'G': 2, 'V': 1, 'P': 1, '-': 1, 'L': 1, 'Y': 1, 'M': 1, 'W': 1})\n",
      "seq5 Counter({'-': 12, 'E': 4, 'M': 3, 'Y': 2, 'A': 2, 'T': 1, 'C': 1, 'K': 1, 'G': 1, 'W': 1})\n",
      "seq2 Counter({'-': 14, 'T': 3, 'E': 2, 'R': 2, 'A': 2, 'G': 1, 'L': 1, 'Y': 1, 'M': 1, 'W': 1})\n",
      "seq1 Counter({'-': 14, 'E': 2, 'R': 2, 'W': 2, 'L': 2, 'A': 2, 'T': 1, 'G': 1, 'K': 1, 'M': 1})\n"
     ]
    }
   ],
   "source": [
    "from collections import Counter as C\n",
    "alignment = BAIO.read(\"exercise-54.output.fasta\", \"fasta\")\n",
    "\n",
    "# halusin nähdä miltä tämä näyttää lajittelemattomana \n",
    "print(alignment)\n",
    "\n",
    "#lajittelu sekvenssien aukkojen mukaan, muttei aavistusta ottaako \n",
    "#oikeasti aukot parametreiksi vai lajittuuko pelkällä tuurilla\n",
    "alignment.sort(key=lambda record: record.seq, reverse=True)\n",
    "print('\\n')\n",
    "print(alignment)\n",
    "\n",
    "#tarkistin meneekö aukkojen mukaan\n",
    "print('\\n')\n",
    "for x in alignment:\n",
    "    print(x.id+\" \"+str(C(x.seq)))"
   ]
  },
  {
   "cell_type": "code",
   "execution_count": null,
   "metadata": {},
   "outputs": [],
   "source": []
  }
 ],
 "metadata": {
  "kernelspec": {
   "display_name": "Python 3",
   "language": "python",
   "name": "python3"
  },
  "language_info": {
   "codemirror_mode": {
    "name": "ipython",
    "version": 3
   },
   "file_extension": ".py",
   "mimetype": "text/x-python",
   "name": "python",
   "nbconvert_exporter": "python",
   "pygments_lexer": "ipython3",
   "version": "3.8.5"
  }
 },
 "nbformat": 4,
 "nbformat_minor": 2
}
