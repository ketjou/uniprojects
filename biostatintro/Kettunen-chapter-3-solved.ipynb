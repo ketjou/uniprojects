{
 "cells": [
  {
   "cell_type": "markdown",
   "metadata": {},
   "source": [
    "# Exercises - chapter 3\n",
    "\n",
    "Load the [`Horse Colic data`](https://archive.ics.uci.edu/ml/datasets/Horse+Colic) and create a subset that contains the variables 1, 4, 13, 19-20, and 23. Use this subset for exercises 3.3 - 3.7. Note that the set of variables is different from the one used in the previous exercises. Remember to handle missing values and categorical variables correctly."
   ]
  },
  {
   "cell_type": "code",
   "execution_count": 1,
   "metadata": {},
   "outputs": [
    {
     "data": {
      "text/html": [
       "<table>\n",
       "<thead><tr><th scope=col>surgery</th><th scope=col>rectal temperature</th><th scope=col>abdominal distension</th><th scope=col>packed cell volume</th><th scope=col>total protein</th><th scope=col>outcome</th></tr></thead>\n",
       "<tbody>\n",
       "\t<tr><td>no        </td><td>38.50     </td><td>severe    </td><td>45.00     </td><td>8.40      </td><td>died      </td></tr>\n",
       "\t<tr><td>yes       </td><td>39.2      </td><td>slight    </td><td>50        </td><td>85        </td><td>euthanized</td></tr>\n",
       "\t<tr><td>no        </td><td>38.30     </td><td>none      </td><td>33.00     </td><td>6.70      </td><td>lived     </td></tr>\n",
       "\t<tr><td>yes       </td><td>39.10     </td><td>severe    </td><td>48.00     </td><td>7.20      </td><td>died      </td></tr>\n",
       "\t<tr><td>no        </td><td>37.30     </td><td>NA        </td><td>74.00     </td><td>7.40      </td><td>died      </td></tr>\n",
       "\t<tr><td>no        </td><td>NA        </td><td>slight    </td><td>NA        </td><td>NA        </td><td>lived     </td></tr>\n",
       "\t<tr><td>yes       </td><td>37.90     </td><td>moderate  </td><td>37.00     </td><td>7.00      </td><td>lived     </td></tr>\n",
       "\t<tr><td>yes       </td><td>NA        </td><td>slight    </td><td>44.00     </td><td>8.30      </td><td>died      </td></tr>\n",
       "\t<tr><td>no        </td><td>NA        </td><td>severe    </td><td>38.00     </td><td>6.20      </td><td>euthanized</td></tr>\n",
       "\t<tr><td>no        </td><td>38.30     </td><td>none      </td><td>40.00     </td><td>6.20      </td><td>lived     </td></tr>\n",
       "\t<tr><td>yes       </td><td>38.10     </td><td>none      </td><td>44.00     </td><td>6.00      </td><td>lived     </td></tr>\n",
       "\t<tr><td>no        </td><td>39.10     </td><td>slight    </td><td>50.00     </td><td>7.80      </td><td>lived     </td></tr>\n",
       "\t<tr><td>yes       </td><td>37.20     </td><td>moderate  </td><td>NA        </td><td>7.00      </td><td>lived     </td></tr>\n",
       "\t<tr><td>no        </td><td>38.00     </td><td>slight    </td><td>37.00     </td><td>6.10      </td><td>died      </td></tr>\n",
       "\t<tr><td>yes       </td><td>38.2      </td><td>none      </td><td>46        </td><td>81        </td><td>lived     </td></tr>\n",
       "\t<tr><td>yes       </td><td>37.60     </td><td>moderate  </td><td>45.00     </td><td>6.80      </td><td>died      </td></tr>\n",
       "\t<tr><td>yes       </td><td>NA        </td><td>moderate  </td><td>53.00     </td><td>7.80      </td><td>died      </td></tr>\n",
       "\t<tr><td>no        </td><td>37.50     </td><td>NA        </td><td>NA        </td><td>NA        </td><td>lived     </td></tr>\n",
       "\t<tr><td>yes       </td><td>37.60     </td><td>none      </td><td>40.00     </td><td>7.00      </td><td>lived     </td></tr>\n",
       "\t<tr><td>no        </td><td>39.4      </td><td>moderate  </td><td>55        </td><td>8.7       </td><td>lived     </td></tr>\n",
       "\t<tr><td>yes       </td><td>39.90     </td><td>severe    </td><td>46.00     </td><td>6.10      </td><td>lived     </td></tr>\n",
       "\t<tr><td>no        </td><td>38.40     </td><td>none      </td><td>49.00     </td><td>6.80      </td><td>lived     </td></tr>\n",
       "\t<tr><td>yes       </td><td>38.60     </td><td>none      </td><td>48.00     </td><td>7.20      </td><td>lived     </td></tr>\n",
       "\t<tr><td>yes       </td><td>38.3      </td><td>NA        </td><td>50        </td><td>70        </td><td>lived     </td></tr>\n",
       "\t<tr><td>yes       </td><td>38.1      </td><td>moderate  </td><td>51        </td><td>65        </td><td>lived     </td></tr>\n",
       "\t<tr><td>no        </td><td>37.80     </td><td>NA        </td><td>NA        </td><td>NA        </td><td>lived     </td></tr>\n",
       "\t<tr><td>yes       </td><td>38.30     </td><td>moderate  </td><td>43.00     </td><td>7.00      </td><td>lived     </td></tr>\n",
       "\t<tr><td>yes       </td><td>37.80     </td><td>slight    </td><td>37.00     </td><td>5.50      </td><td>lived     </td></tr>\n",
       "\t<tr><td>yes       </td><td>NA        </td><td>NA        </td><td>NA        </td><td>NA        </td><td>died      </td></tr>\n",
       "\t<tr><td>no        </td><td>37.7      </td><td>none      </td><td>45        </td><td>76        </td><td>lived     </td></tr>\n",
       "\t<tr><td>...</td><td>...</td><td>...</td><td>...</td><td>...</td><td>...</td></tr>\n",
       "\t<tr><td>yes       </td><td>37.50     </td><td>slight    </td><td>35.00     </td><td>6.50      </td><td>died      </td></tr>\n",
       "\t<tr><td>yes       </td><td>37.7      </td><td>none      </td><td>50        </td><td>55        </td><td>lived     </td></tr>\n",
       "\t<tr><td>yes       </td><td>NA        </td><td>severe    </td><td>52.00     </td><td>6.60      </td><td>lived     </td></tr>\n",
       "\t<tr><td>yes       </td><td>37.70     </td><td>moderate  </td><td>65.00     </td><td>7.00      </td><td>died      </td></tr>\n",
       "\t<tr><td>yes       </td><td>NA        </td><td>severe    </td><td>NA        </td><td>NA        </td><td>euthanized</td></tr>\n",
       "\t<tr><td>yes       </td><td>38.80     </td><td>slight    </td><td>50.00     </td><td>6.20      </td><td>died      </td></tr>\n",
       "\t<tr><td>yes       </td><td>38.0      </td><td>slight    </td><td>37        </td><td>75        </td><td>euthanized</td></tr>\n",
       "\t<tr><td>no        </td><td>36.90     </td><td>slight    </td><td>37.50     </td><td>6.50      </td><td>lived     </td></tr>\n",
       "\t<tr><td>no        </td><td>37.80     </td><td>none      </td><td>37.00     </td><td>6.80      </td><td>lived     </td></tr>\n",
       "\t<tr><td>no        </td><td>38.20     </td><td>moderate  </td><td>47.00     </td><td>7.20      </td><td>lived     </td></tr>\n",
       "\t<tr><td>yes       </td><td>38.6      </td><td>NA        </td><td>36        </td><td>67        </td><td>lived     </td></tr>\n",
       "\t<tr><td>no        </td><td>40.00     </td><td>none      </td><td>66.00     </td><td>6.50      </td><td>died      </td></tr>\n",
       "\t<tr><td>yes       </td><td>NA        </td><td>slight    </td><td>60.00     </td><td>7.50      </td><td>died      </td></tr>\n",
       "\t<tr><td>yes       </td><td>38.20     </td><td>NA        </td><td>35.00     </td><td>6.40      </td><td>lived     </td></tr>\n",
       "\t<tr><td>no        </td><td>38.50     </td><td>none      </td><td>40.00     </td><td>6.80      </td><td>lived     </td></tr>\n",
       "\t<tr><td>yes       </td><td>38.50     </td><td>none      </td><td>40.00     </td><td>6.70      </td><td>lived     </td></tr>\n",
       "\t<tr><td>no        </td><td>37.80     </td><td>moderate  </td><td>50.00     </td><td>7.00      </td><td>euthanized</td></tr>\n",
       "\t<tr><td>no        </td><td>39.50     </td><td>NA        </td><td>28.00     </td><td>5.00      </td><td>lived     </td></tr>\n",
       "\t<tr><td>yes       </td><td>NA        </td><td>NA        </td><td>NA        </td><td>NA        </td><td>lived     </td></tr>\n",
       "\t<tr><td>yes       </td><td>38.00     </td><td>slight    </td><td>39.00     </td><td>6.60      </td><td>lived     </td></tr>\n",
       "\t<tr><td>no        </td><td>38.6      </td><td>NA        </td><td>43        </td><td>58        </td><td>lived     </td></tr>\n",
       "\t<tr><td>yes       </td><td>38.90     </td><td>moderate  </td><td>54.00     </td><td>6.50      </td><td>died      </td></tr>\n",
       "\t<tr><td>yes       </td><td>37.00     </td><td>moderate  </td><td>35.00     </td><td>6.90      </td><td>died      </td></tr>\n",
       "\t<tr><td>yes       </td><td>NA        </td><td>NA        </td><td>43        </td><td>62        </td><td>euthanized</td></tr>\n",
       "\t<tr><td>no        </td><td>38.5      </td><td>none      </td><td>37        </td><td>67        </td><td>lived     </td></tr>\n",
       "\t<tr><td>yes       </td><td>NA        </td><td>NA        </td><td>55        </td><td>65        </td><td>euthanized</td></tr>\n",
       "\t<tr><td>no        </td><td>37.20     </td><td>moderate  </td><td>44.00     </td><td>NA        </td><td>euthanized</td></tr>\n",
       "\t<tr><td>yes       </td><td>37.50     </td><td>moderate  </td><td>60.00     </td><td>6.80      </td><td>died      </td></tr>\n",
       "\t<tr><td>yes       </td><td>36.50     </td><td>moderate  </td><td>50.00     </td><td>6.00      </td><td>lived     </td></tr>\n",
       "\t<tr><td>yes       </td><td>37.2      </td><td>NA        </td><td>36        </td><td>62        </td><td>euthanized</td></tr>\n",
       "</tbody>\n",
       "</table>\n"
      ],
      "text/latex": [
       "\\begin{tabular}{r|llllll}\n",
       " surgery & rectal temperature & abdominal distension & packed cell volume & total protein & outcome\\\\\n",
       "\\hline\n",
       "\t no         & 38.50      & severe     & 45.00      & 8.40       & died      \\\\\n",
       "\t yes        & 39.2       & slight     & 50         & 85         & euthanized\\\\\n",
       "\t no         & 38.30      & none       & 33.00      & 6.70       & lived     \\\\\n",
       "\t yes        & 39.10      & severe     & 48.00      & 7.20       & died      \\\\\n",
       "\t no         & 37.30      & NA         & 74.00      & 7.40       & died      \\\\\n",
       "\t no         & NA         & slight     & NA         & NA         & lived     \\\\\n",
       "\t yes        & 37.90      & moderate   & 37.00      & 7.00       & lived     \\\\\n",
       "\t yes        & NA         & slight     & 44.00      & 8.30       & died      \\\\\n",
       "\t no         & NA         & severe     & 38.00      & 6.20       & euthanized\\\\\n",
       "\t no         & 38.30      & none       & 40.00      & 6.20       & lived     \\\\\n",
       "\t yes        & 38.10      & none       & 44.00      & 6.00       & lived     \\\\\n",
       "\t no         & 39.10      & slight     & 50.00      & 7.80       & lived     \\\\\n",
       "\t yes        & 37.20      & moderate   & NA         & 7.00       & lived     \\\\\n",
       "\t no         & 38.00      & slight     & 37.00      & 6.10       & died      \\\\\n",
       "\t yes        & 38.2       & none       & 46         & 81         & lived     \\\\\n",
       "\t yes        & 37.60      & moderate   & 45.00      & 6.80       & died      \\\\\n",
       "\t yes        & NA         & moderate   & 53.00      & 7.80       & died      \\\\\n",
       "\t no         & 37.50      & NA         & NA         & NA         & lived     \\\\\n",
       "\t yes        & 37.60      & none       & 40.00      & 7.00       & lived     \\\\\n",
       "\t no         & 39.4       & moderate   & 55         & 8.7        & lived     \\\\\n",
       "\t yes        & 39.90      & severe     & 46.00      & 6.10       & lived     \\\\\n",
       "\t no         & 38.40      & none       & 49.00      & 6.80       & lived     \\\\\n",
       "\t yes        & 38.60      & none       & 48.00      & 7.20       & lived     \\\\\n",
       "\t yes        & 38.3       & NA         & 50         & 70         & lived     \\\\\n",
       "\t yes        & 38.1       & moderate   & 51         & 65         & lived     \\\\\n",
       "\t no         & 37.80      & NA         & NA         & NA         & lived     \\\\\n",
       "\t yes        & 38.30      & moderate   & 43.00      & 7.00       & lived     \\\\\n",
       "\t yes        & 37.80      & slight     & 37.00      & 5.50       & lived     \\\\\n",
       "\t yes        & NA         & NA         & NA         & NA         & died      \\\\\n",
       "\t no         & 37.7       & none       & 45         & 76         & lived     \\\\\n",
       "\t ... & ... & ... & ... & ... & ...\\\\\n",
       "\t yes        & 37.50      & slight     & 35.00      & 6.50       & died      \\\\\n",
       "\t yes        & 37.7       & none       & 50         & 55         & lived     \\\\\n",
       "\t yes        & NA         & severe     & 52.00      & 6.60       & lived     \\\\\n",
       "\t yes        & 37.70      & moderate   & 65.00      & 7.00       & died      \\\\\n",
       "\t yes        & NA         & severe     & NA         & NA         & euthanized\\\\\n",
       "\t yes        & 38.80      & slight     & 50.00      & 6.20       & died      \\\\\n",
       "\t yes        & 38.0       & slight     & 37         & 75         & euthanized\\\\\n",
       "\t no         & 36.90      & slight     & 37.50      & 6.50       & lived     \\\\\n",
       "\t no         & 37.80      & none       & 37.00      & 6.80       & lived     \\\\\n",
       "\t no         & 38.20      & moderate   & 47.00      & 7.20       & lived     \\\\\n",
       "\t yes        & 38.6       & NA         & 36         & 67         & lived     \\\\\n",
       "\t no         & 40.00      & none       & 66.00      & 6.50       & died      \\\\\n",
       "\t yes        & NA         & slight     & 60.00      & 7.50       & died      \\\\\n",
       "\t yes        & 38.20      & NA         & 35.00      & 6.40       & lived     \\\\\n",
       "\t no         & 38.50      & none       & 40.00      & 6.80       & lived     \\\\\n",
       "\t yes        & 38.50      & none       & 40.00      & 6.70       & lived     \\\\\n",
       "\t no         & 37.80      & moderate   & 50.00      & 7.00       & euthanized\\\\\n",
       "\t no         & 39.50      & NA         & 28.00      & 5.00       & lived     \\\\\n",
       "\t yes        & NA         & NA         & NA         & NA         & lived     \\\\\n",
       "\t yes        & 38.00      & slight     & 39.00      & 6.60       & lived     \\\\\n",
       "\t no         & 38.6       & NA         & 43         & 58         & lived     \\\\\n",
       "\t yes        & 38.90      & moderate   & 54.00      & 6.50       & died      \\\\\n",
       "\t yes        & 37.00      & moderate   & 35.00      & 6.90       & died      \\\\\n",
       "\t yes        & NA         & NA         & 43         & 62         & euthanized\\\\\n",
       "\t no         & 38.5       & none       & 37         & 67         & lived     \\\\\n",
       "\t yes        & NA         & NA         & 55         & 65         & euthanized\\\\\n",
       "\t no         & 37.20      & moderate   & 44.00      & NA         & euthanized\\\\\n",
       "\t yes        & 37.50      & moderate   & 60.00      & 6.80       & died      \\\\\n",
       "\t yes        & 36.50      & moderate   & 50.00      & 6.00       & lived     \\\\\n",
       "\t yes        & 37.2       & NA         & 36         & 62         & euthanized\\\\\n",
       "\\end{tabular}\n"
      ],
      "text/markdown": [
       "\n",
       "| surgery | rectal temperature | abdominal distension | packed cell volume | total protein | outcome |\n",
       "|---|---|---|---|---|---|\n",
       "| no         | 38.50      | severe     | 45.00      | 8.40       | died       |\n",
       "| yes        | 39.2       | slight     | 50         | 85         | euthanized |\n",
       "| no         | 38.30      | none       | 33.00      | 6.70       | lived      |\n",
       "| yes        | 39.10      | severe     | 48.00      | 7.20       | died       |\n",
       "| no         | 37.30      | NA         | 74.00      | 7.40       | died       |\n",
       "| no         | NA         | slight     | NA         | NA         | lived      |\n",
       "| yes        | 37.90      | moderate   | 37.00      | 7.00       | lived      |\n",
       "| yes        | NA         | slight     | 44.00      | 8.30       | died       |\n",
       "| no         | NA         | severe     | 38.00      | 6.20       | euthanized |\n",
       "| no         | 38.30      | none       | 40.00      | 6.20       | lived      |\n",
       "| yes        | 38.10      | none       | 44.00      | 6.00       | lived      |\n",
       "| no         | 39.10      | slight     | 50.00      | 7.80       | lived      |\n",
       "| yes        | 37.20      | moderate   | NA         | 7.00       | lived      |\n",
       "| no         | 38.00      | slight     | 37.00      | 6.10       | died       |\n",
       "| yes        | 38.2       | none       | 46         | 81         | lived      |\n",
       "| yes        | 37.60      | moderate   | 45.00      | 6.80       | died       |\n",
       "| yes        | NA         | moderate   | 53.00      | 7.80       | died       |\n",
       "| no         | 37.50      | NA         | NA         | NA         | lived      |\n",
       "| yes        | 37.60      | none       | 40.00      | 7.00       | lived      |\n",
       "| no         | 39.4       | moderate   | 55         | 8.7        | lived      |\n",
       "| yes        | 39.90      | severe     | 46.00      | 6.10       | lived      |\n",
       "| no         | 38.40      | none       | 49.00      | 6.80       | lived      |\n",
       "| yes        | 38.60      | none       | 48.00      | 7.20       | lived      |\n",
       "| yes        | 38.3       | NA         | 50         | 70         | lived      |\n",
       "| yes        | 38.1       | moderate   | 51         | 65         | lived      |\n",
       "| no         | 37.80      | NA         | NA         | NA         | lived      |\n",
       "| yes        | 38.30      | moderate   | 43.00      | 7.00       | lived      |\n",
       "| yes        | 37.80      | slight     | 37.00      | 5.50       | lived      |\n",
       "| yes        | NA         | NA         | NA         | NA         | died       |\n",
       "| no         | 37.7       | none       | 45         | 76         | lived      |\n",
       "| ... | ... | ... | ... | ... | ... |\n",
       "| yes        | 37.50      | slight     | 35.00      | 6.50       | died       |\n",
       "| yes        | 37.7       | none       | 50         | 55         | lived      |\n",
       "| yes        | NA         | severe     | 52.00      | 6.60       | lived      |\n",
       "| yes        | 37.70      | moderate   | 65.00      | 7.00       | died       |\n",
       "| yes        | NA         | severe     | NA         | NA         | euthanized |\n",
       "| yes        | 38.80      | slight     | 50.00      | 6.20       | died       |\n",
       "| yes        | 38.0       | slight     | 37         | 75         | euthanized |\n",
       "| no         | 36.90      | slight     | 37.50      | 6.50       | lived      |\n",
       "| no         | 37.80      | none       | 37.00      | 6.80       | lived      |\n",
       "| no         | 38.20      | moderate   | 47.00      | 7.20       | lived      |\n",
       "| yes        | 38.6       | NA         | 36         | 67         | lived      |\n",
       "| no         | 40.00      | none       | 66.00      | 6.50       | died       |\n",
       "| yes        | NA         | slight     | 60.00      | 7.50       | died       |\n",
       "| yes        | 38.20      | NA         | 35.00      | 6.40       | lived      |\n",
       "| no         | 38.50      | none       | 40.00      | 6.80       | lived      |\n",
       "| yes        | 38.50      | none       | 40.00      | 6.70       | lived      |\n",
       "| no         | 37.80      | moderate   | 50.00      | 7.00       | euthanized |\n",
       "| no         | 39.50      | NA         | 28.00      | 5.00       | lived      |\n",
       "| yes        | NA         | NA         | NA         | NA         | lived      |\n",
       "| yes        | 38.00      | slight     | 39.00      | 6.60       | lived      |\n",
       "| no         | 38.6       | NA         | 43         | 58         | lived      |\n",
       "| yes        | 38.90      | moderate   | 54.00      | 6.50       | died       |\n",
       "| yes        | 37.00      | moderate   | 35.00      | 6.90       | died       |\n",
       "| yes        | NA         | NA         | 43         | 62         | euthanized |\n",
       "| no         | 38.5       | none       | 37         | 67         | lived      |\n",
       "| yes        | NA         | NA         | 55         | 65         | euthanized |\n",
       "| no         | 37.20      | moderate   | 44.00      | NA         | euthanized |\n",
       "| yes        | 37.50      | moderate   | 60.00      | 6.80       | died       |\n",
       "| yes        | 36.50      | moderate   | 50.00      | 6.00       | lived      |\n",
       "| yes        | 37.2       | NA         | 36         | 62         | euthanized |\n",
       "\n"
      ],
      "text/plain": [
       "    surgery rectal temperature abdominal distension packed cell volume\n",
       "1   no      38.50              severe               45.00             \n",
       "2   yes     39.2               slight               50                \n",
       "3   no      38.30              none                 33.00             \n",
       "4   yes     39.10              severe               48.00             \n",
       "5   no      37.30              NA                   74.00             \n",
       "6   no      NA                 slight               NA                \n",
       "7   yes     37.90              moderate             37.00             \n",
       "8   yes     NA                 slight               44.00             \n",
       "9   no      NA                 severe               38.00             \n",
       "10  no      38.30              none                 40.00             \n",
       "11  yes     38.10              none                 44.00             \n",
       "12  no      39.10              slight               50.00             \n",
       "13  yes     37.20              moderate             NA                \n",
       "14  no      38.00              slight               37.00             \n",
       "15  yes     38.2               none                 46                \n",
       "16  yes     37.60              moderate             45.00             \n",
       "17  yes     NA                 moderate             53.00             \n",
       "18  no      37.50              NA                   NA                \n",
       "19  yes     37.60              none                 40.00             \n",
       "20  no      39.4               moderate             55                \n",
       "21  yes     39.90              severe               46.00             \n",
       "22  no      38.40              none                 49.00             \n",
       "23  yes     38.60              none                 48.00             \n",
       "24  yes     38.3               NA                   50                \n",
       "25  yes     38.1               moderate             51                \n",
       "26  no      37.80              NA                   NA                \n",
       "27  yes     38.30              moderate             43.00             \n",
       "28  yes     37.80              slight               37.00             \n",
       "29  yes     NA                 NA                   NA                \n",
       "30  no      37.7               none                 45                \n",
       "... ...     ...                ...                  ...               \n",
       "271 yes     37.50              slight               35.00             \n",
       "272 yes     37.7               none                 50                \n",
       "273 yes     NA                 severe               52.00             \n",
       "274 yes     37.70              moderate             65.00             \n",
       "275 yes     NA                 severe               NA                \n",
       "276 yes     38.80              slight               50.00             \n",
       "277 yes     38.0               slight               37                \n",
       "278 no      36.90              slight               37.50             \n",
       "279 no      37.80              none                 37.00             \n",
       "280 no      38.20              moderate             47.00             \n",
       "281 yes     38.6               NA                   36                \n",
       "282 no      40.00              none                 66.00             \n",
       "283 yes     NA                 slight               60.00             \n",
       "284 yes     38.20              NA                   35.00             \n",
       "285 no      38.50              none                 40.00             \n",
       "286 yes     38.50              none                 40.00             \n",
       "287 no      37.80              moderate             50.00             \n",
       "288 no      39.50              NA                   28.00             \n",
       "289 yes     NA                 NA                   NA                \n",
       "290 yes     38.00              slight               39.00             \n",
       "291 no      38.6               NA                   43                \n",
       "292 yes     38.90              moderate             54.00             \n",
       "293 yes     37.00              moderate             35.00             \n",
       "294 yes     NA                 NA                   43                \n",
       "295 no      38.5               none                 37                \n",
       "296 yes     NA                 NA                   55                \n",
       "297 no      37.20              moderate             44.00             \n",
       "298 yes     37.50              moderate             60.00             \n",
       "299 yes     36.50              moderate             50.00             \n",
       "300 yes     37.2               NA                   36                \n",
       "    total protein outcome   \n",
       "1   8.40          died      \n",
       "2   85            euthanized\n",
       "3   6.70          lived     \n",
       "4   7.20          died      \n",
       "5   7.40          died      \n",
       "6   NA            lived     \n",
       "7   7.00          lived     \n",
       "8   8.30          died      \n",
       "9   6.20          euthanized\n",
       "10  6.20          lived     \n",
       "11  6.00          lived     \n",
       "12  7.80          lived     \n",
       "13  7.00          lived     \n",
       "14  6.10          died      \n",
       "15  81            lived     \n",
       "16  6.80          died      \n",
       "17  7.80          died      \n",
       "18  NA            lived     \n",
       "19  7.00          lived     \n",
       "20  8.7           lived     \n",
       "21  6.10          lived     \n",
       "22  6.80          lived     \n",
       "23  7.20          lived     \n",
       "24  70            lived     \n",
       "25  65            lived     \n",
       "26  NA            lived     \n",
       "27  7.00          lived     \n",
       "28  5.50          lived     \n",
       "29  NA            died      \n",
       "30  76            lived     \n",
       "... ...           ...       \n",
       "271 6.50          died      \n",
       "272 55            lived     \n",
       "273 6.60          lived     \n",
       "274 7.00          died      \n",
       "275 NA            euthanized\n",
       "276 6.20          died      \n",
       "277 75            euthanized\n",
       "278 6.50          lived     \n",
       "279 6.80          lived     \n",
       "280 7.20          lived     \n",
       "281 67            lived     \n",
       "282 6.50          died      \n",
       "283 7.50          died      \n",
       "284 6.40          lived     \n",
       "285 6.80          lived     \n",
       "286 6.70          lived     \n",
       "287 7.00          euthanized\n",
       "288 5.00          lived     \n",
       "289 NA            lived     \n",
       "290 6.60          lived     \n",
       "291 58            lived     \n",
       "292 6.50          died      \n",
       "293 6.90          died      \n",
       "294 62            euthanized\n",
       "295 67            lived     \n",
       "296 65            euthanized\n",
       "297 NA            euthanized\n",
       "298 6.80          died      \n",
       "299 6.00          lived     \n",
       "300 62            euthanized"
      ]
     },
     "metadata": {},
     "output_type": "display_data"
    }
   ],
   "source": [
    "horseys <- read.table(\"C:/Users/JK/Desktop/IntroStat/horse-colic.data\", quote=\"\\\"\", comment.char=\"\")\n",
    "horseys[horseys==\"?\"] <- NA\n",
    "horseys$V2[horseys$V2==9] <- 2\n",
    "x <- c(1,4,13,19,20,23)\n",
    "#not creating a subset :(, couldn't remember how\n",
    "\n",
    "MyHorse <- horseys[,x]\n",
    "colnames(MyHorse) <- c(\"surgery\", \"rectal temperature\", \"abdominal distension\", \"packed cell volume\", \"total protein\", \"outcome\")\n",
    "MyHorse$surgery = factor(MyHorse$surgery)\n",
    "levels(MyHorse$surgery) = c(\"yes\", \"no\")\n",
    "\n",
    "MyHorse$`abdominal distension` = factor(MyHorse$`abdominal distension`)\n",
    "levels(MyHorse$surgery) = c(\"none\", \"slight\", \"moderate\", \"severe\")\n",
    "\n",
    "MyHorse$surgery = factor(MyHorse$surgery)\n",
    "levels(MyHorse$surgery) = c(\"yes\", \"no\")\n",
    "\n",
    "MyHorse$`abdominal distension` = factor(MyHorse$`abdominal distension`)\n",
    "levels(MyHorse$`abdominal distension`) = c(\"none\", \"slight\", \"moderate\", \"severe\")\n",
    "\n",
    "MyHorse$outcome = factor(MyHorse$outcome)\n",
    "levels(MyHorse$outcome) = c(\"lived\", \"died\", \"euthanized\")\n",
    "MyHorse"
   ]
  },
  {
   "cell_type": "markdown",
   "metadata": {},
   "source": [
    "#### 3.1\n",
    "\n",
    "What numerical descriptive methods do [Nelson et al. (2017)](http://www.sciencedirect.com/science/article/pii/S1524904216301552) use to report their findings?\n",
    "\n",
    "https://www.britannica.com/science/statistics/Random-variables-and-probability-distributions"
   ]
  },
  {
   "cell_type": "markdown",
   "metadata": {},
   "source": [
    "- Median age in years (range)\n",
    "- Median number of behavioral observations (range)\n",
    "- p Value with Fischer's exact test & Mann-Whitney U test\n",
    "- Cohen's d\n",
    "- \"Cohen's d is the difference between two group means divided by the pooled SD for the two groups\" (https://methods.sagepub.com/reference/encyc-of-research-design/n59.xml)\n",
    "___________________________________________________________________________________________________________\n",
    "- Freguencies (absolute, relative)\n",
    "- Mean\n",
    "- Correlation\n",
    "- Median (range)\n",
    "- SD"
   ]
  },
  {
   "cell_type": "markdown",
   "metadata": {},
   "source": [
    "Or did this mean the methods solely descriped in the \"Data Analysis\" chapter\n"
   ]
  },
  {
   "cell_type": "markdown",
   "metadata": {},
   "source": [
    "#### 3.2\n",
    "\n",
    "Nelson et al. (2017) do not use any graphical descriptive methods. Which graphical methods would you use to replace the statistics reported in the article?\n",
    "\n",
    "In which cases would you prefer the graphical method over the numerical method?"
   ]
  },
  {
   "cell_type": "markdown",
   "metadata": {},
   "source": [
    "- If the data consists of multiple observations or is hard to get a grasp, I'd prefer graphics over number \n",
    "- Differences for Pain and Anxiety could have been presented at least as a bar plot\n",
    "\n",
    "____________________________________________________________________________________________________\n",
    "p-value as scatter plot -> see the correlation\n",
    "techincally the pain is ordinal value -> mean is not neccessary reliable ith small numbers. Histogram could be good as the numbers are treated as \"numbers\"\n",
    "Bar plot would be better \"mathematicly\" as the pain is basically ordinal\n",
    "correlation could be a scatter plot\n",
    "bar blot could be done age vs. sex\n",
    "calmness could be plotted with bar plot"
   ]
  },
  {
   "cell_type": "markdown",
   "metadata": {},
   "source": [
    "#### 3.3\n",
    "\n",
    "Use numerical descriptive methods to summarise the horse colic data. Analyse each variable separately. Do not divide the observations into subsets (c.f. exercises 3.6 and 3.7).\n",
    "\n",
    "Justify your choices of methods and describe your key findings.\n",
    "http://www.cookbook-r.com/Manipulating_data/Summarizing_data/"
   ]
  },
  {
   "cell_type": "code",
   "execution_count": 20,
   "metadata": {},
   "outputs": [
    {
     "data": {
      "text/plain": [
       " surgery    rectal temperature abdominal distension packed cell volume\n",
       " yes :180   Min.   : 1.00      none    :76          Min.   : 1.00     \n",
       " no  :119   1st Qu.:25.75      slight  :65          1st Qu.:22.00     \n",
       " NA's:  1   Median :34.00      moderate:65          Median :34.00     \n",
       "            Mean   :33.52      severe  :38          Mean   :36.29     \n",
       "            3rd Qu.:41.00      NA's    :56          3rd Qu.:48.50     \n",
       "            Max.   :65.00                           Max.   :80.00     \n",
       "            NA's   :60                              NA's   :29        \n",
       " total protein         outcome   \n",
       " Min.   : 1.00   lived     :178  \n",
       " 1st Qu.:29.00   died      : 77  \n",
       " Median :41.00   euthanized: 44  \n",
       " Mean   :41.48   NA's      :  1  \n",
       " 3rd Qu.:54.00                   \n",
       " Max.   :84.00                   \n",
       " NA's   :33                      "
      ]
     },
     "metadata": {},
     "output_type": "display_data"
    }
   ],
   "source": [
    "MyHorse$`rectal temperature`= as.numeric(as.character(MyHorse$`rectal temperature`))\n",
    "MyHorse$`packed cell volume`= as.numeric(as.factor(MyHorse$`packed cell volume`))\n",
    "MyHorse$`total protein`= as.numeric(as.factor(MyHorse$`total protein`))\n",
    "#the wizdom of the internet adviced me to transform those mentioned to numeric to be able to count\n",
    "summary(MyHorse)\n",
    "_______________________________________________________________\n",
    "\n",
    "#mode for categorial values -> discrete value\n",
    "#temperature as continuous variable\n",
    "#\n",
    "#\n",
    "#\n",
    "#\n"
   ]
  },
  {
   "cell_type": "markdown",
   "metadata": {},
   "source": [
    "#### 3.4\n",
    "\n",
    "Use graphical descriptive methods to summarise the horse colic data. Analyse each variable separately. Do not divide the observations into subsets (c.f. exercises 3.6 and 3.7).\n",
    "https://stats.stackexchange.com/questions/4089/graphical-data-overview-summary-function-in-r\n",
    "\n",
    "Justify your choices of methods and describe your key findings. In particular, characterise the shapes of the sample distributions of the quantitative variables.\n",
    "http://oer2go.org/mods/en-boundless/www.boundless.com/statistics/textbooks/boundless-statistics-textbook/sampling-7/sampling-distributions-30/shapes-of-sampling-distributions-158-312/index.html"
   ]
  },
  {
   "cell_type": "code",
   "execution_count": 23,
   "metadata": {},
   "outputs": [
    {
     "data": {
      "image/png": "[encoded data removed]",
      "text/plain": [
       "Plot with title \"Surgery\""
      ]
     },
     "metadata": {},
     "output_type": "display_data"
    },
    {
     "data": {
      "image/png": "[encoded data removed]",
      "text/plain": [
       "Plot with title \"Distension\""
      ]
     },
     "metadata": {},
     "output_type": "display_data"
    },
    {
     "data": {
      "image/png": "[encoded data removed]",
      "text/plain": [
       "Plot with title \"Outcome\""
      ]
     },
     "metadata": {},
     "output_type": "display_data"
    },
    {
     "data": {
      "image/png": "[encoded data removed]",
      "text/plain": [
       "Plot with title \"Temperature\""
      ]
     },
     "metadata": {},
     "output_type": "display_data"
    },
    {
     "data": {
      "image/png": "[encoded data removed]",
      "text/plain": [
       "Plot with title \"Cell (V)\""
      ]
     },
     "metadata": {},
     "output_type": "display_data"
    },
    {
     "data": {
      "image/png": "[encoded data removed]",
      "text/plain": [
       "Plot with title \"Protein\""
      ]
     },
     "metadata": {},
     "output_type": "display_data"
    }
   ],
   "source": [
    "barplot(table(MyHorse$surgery), main=\"Surgery\",ylab=\"Horses\")\n",
    "barplot(table(MyHorse$`abdominal distension`), main=\"Distension\", ylab=\"Frequencies\")\n",
    "barplot(table(MyHorse$outcome), main=\"Outcome\", ylab=\"Frequencies\")\n",
    "#Then noticed an error in temp data, internet adviced me to fix it  MyHorse$`rectal temperature`= as.numeric(as.character(MyHorse$`rectal temperature`))\n",
    "#still have the wrong data in here, corrected in the R!\n",
    "hist(MyHorse$`rectal temperature`, breaks = 5, main=\"Temperature\", xlab=\"Temperature\")\n",
    "hist(MyHorse$`packed cell volume`, breaks = 10, main=\"Cell (V)\", xlab=\"Cell (V)\")\n",
    "hist(MyHorse$`total protein`, main=\"Protein\", xlab=\"Protein)\")\n",
    "\n"
   ]
  },
  {
   "cell_type": "markdown",
   "metadata": {},
   "source": [
    "#### 3.5\n",
    "\n",
    "Use numerical and graphical methods to examine each pair of quantitative variables in the horse colic data. Do not divide the observations into subsets (c.f. exercises 3.6 and 3.7).\n",
    "\n",
    "Are there correlations or other patterns between variables?"
   ]
  },
  {
   "cell_type": "code",
   "execution_count": 24,
   "metadata": {},
   "outputs": [
    {
     "data": {
      "image/png": "[encoded data removed]",
      "text/plain": [
       "Plot with title \"Rectal temperature\""
      ]
     },
     "metadata": {},
     "output_type": "display_data"
    }
   ],
   "source": [
    "boxplot(MyHorse$`rectal temperature` ~ MyHorse$outcome, main=\"Rectal temperature\")\n",
    "___________________________________________________________________________________________\n",
    "\n",
    "# \n"
   ]
  },
  {
   "cell_type": "markdown",
   "metadata": {},
   "source": [
    "#### 3.6\n",
    "\n",
    "Divide the observations in the horse colic data into subsets by the value of the `outcome` variable. Summarise the categorical variables of both subsets.\n",
    "\n",
    "Are there differences between the subsets? If yes, what possible reasons are there for such differences?"
   ]
  },
  {
   "cell_type": "code",
   "execution_count": 25,
   "metadata": {},
   "outputs": [
    {
     "data": {
      "text/plain": [
       " surgery  rectal temperature abdominal distension packed cell volume\n",
       " yes:95   Min.   : 5.00      none    :61          Min.   : 1.00     \n",
       " no :83   1st Qu.:26.00      slight  :47          1st Qu.:19.00     \n",
       "          Median :35.00      moderate:26          Median :29.00     \n",
       "          Mean   :34.02      severe  :13          Mean   :30.06     \n",
       "          3rd Qu.:40.25      NA's    :31          3rd Qu.:39.00     \n",
       "          Max.   :62.00                           Max.   :75.00     \n",
       "          NA's   :26                              NA's   :13        \n",
       " total protein         outcome   \n",
       " Min.   : 2.00   lived     :178  \n",
       " 1st Qu.:29.00   died      :  0  \n",
       " Median :41.00   euthanized:  0  \n",
       " Mean   :41.56                   \n",
       " 3rd Qu.:53.00                   \n",
       " Max.   :84.00                   \n",
       " NA's   :13                      "
      ]
     },
     "metadata": {},
     "output_type": "display_data"
    },
    {
     "data": {
      "text/plain": [
       " surgery  rectal temperature abdominal distension packed cell volume\n",
       " yes:85   Min.   : 1.0       none    :14          Min.   : 6.00     \n",
       " no :36   1st Qu.:21.0       slight  :18          1st Qu.:33.00     \n",
       "          Median :32.0       moderate:39          Median :48.00     \n",
       "          Mean   :32.7       severe  :25          Mean   :46.14     \n",
       "          3rd Qu.:44.5       NA's    :25          3rd Qu.:62.00     \n",
       "          Max.   :65.0                            Max.   :80.00     \n",
       "          NA's   :34                              NA's   :16        \n",
       " total protein         outcome  \n",
       " Min.   : 1.00   lived     : 0  \n",
       " 1st Qu.:28.00   died      :77  \n",
       " Median :40.00   euthanized:44  \n",
       " Mean   :41.17                  \n",
       " 3rd Qu.:54.00                  \n",
       " Max.   :83.00                  \n",
       " NA's   :20                     "
      ]
     },
     "metadata": {},
     "output_type": "display_data"
    }
   ],
   "source": [
    "dead <- subset(MyHorse, outcome==\"died\" | outcome==\"euthanized\")\n",
    "lived <- subset(MyHorse, outcome==\"lived\")\n",
    "summary(lived)\n",
    "summary(dead)\n",
    "\n",
    "#split returns a list according to selection"
   ]
  },
  {
   "cell_type": "markdown",
   "metadata": {},
   "source": [
    "#### 3.7\n",
    "\n",
    "Divide the observations in the horse colic data into subsets by the value of the `outcome` variable. Summarise the quantitative variables of both subsets.\n",
    "\n",
    "Are there differences between the subsets? If yes, what possible reasons are there for such differences?"
   ]
  },
  {
   "cell_type": "code",
   "execution_count": 26,
   "metadata": {},
   "outputs": [
    {
     "data": {
      "text/plain": [
       " surgery  rectal temperature abdominal distension packed cell volume\n",
       " yes:95   Min.   : 5.00      none    :61          Min.   : 1.00     \n",
       " no :83   1st Qu.:26.00      slight  :47          1st Qu.:19.00     \n",
       "          Median :35.00      moderate:26          Median :29.00     \n",
       "          Mean   :34.02      severe  :13          Mean   :30.06     \n",
       "          3rd Qu.:40.25      NA's    :31          3rd Qu.:39.00     \n",
       "          Max.   :62.00                           Max.   :75.00     \n",
       "          NA's   :26                              NA's   :13        \n",
       " total protein         outcome   \n",
       " Min.   : 2.00   lived     :178  \n",
       " 1st Qu.:29.00   died      :  0  \n",
       " Median :41.00   euthanized:  0  \n",
       " Mean   :41.56                   \n",
       " 3rd Qu.:53.00                   \n",
       " Max.   :84.00                   \n",
       " NA's   :13                      "
      ]
     },
     "metadata": {},
     "output_type": "display_data"
    },
    {
     "data": {
      "text/plain": [
       " surgery  rectal temperature abdominal distension packed cell volume\n",
       " yes:85   Min.   : 1.0       none    :14          Min.   : 6.00     \n",
       " no :36   1st Qu.:21.0       slight  :18          1st Qu.:33.00     \n",
       "          Median :32.0       moderate:39          Median :48.00     \n",
       "          Mean   :32.7       severe  :25          Mean   :46.14     \n",
       "          3rd Qu.:44.5       NA's    :25          3rd Qu.:62.00     \n",
       "          Max.   :65.0                            Max.   :80.00     \n",
       "          NA's   :34                              NA's   :16        \n",
       " total protein         outcome  \n",
       " Min.   : 1.00   lived     : 0  \n",
       " 1st Qu.:28.00   died      :77  \n",
       " Median :40.00   euthanized:44  \n",
       " Mean   :41.17                  \n",
       " 3rd Qu.:54.00                  \n",
       " Max.   :83.00                  \n",
       " NA's   :20                     "
      ]
     },
     "metadata": {},
     "output_type": "display_data"
    }
   ],
   "source": [
    "summary(lived)\n",
    "summary(dead)"
   ]
  },
  {
   "cell_type": "markdown",
   "metadata": {},
   "source": [
    "#### 3.8\n",
    "\n",
    "Load the original horse colic data set and create a subset that only contains the `total protein` and `abdominocentesis total protein` variables.\n",
    "\n",
    "Explore the two variables. What is suspicious about the data? If you find a plausible reason for the anomaly, amend (correct faults ) the data accordingly. How does this affect your results of the previous exercises?"
   ]
  },
  {
   "cell_type": "code",
   "execution_count": 3,
   "metadata": {},
   "outputs": [
    {
     "data": {
      "image/png": "[encoded data removed]",
      "text/plain": [
       "Plot with title \"Tot Prot\""
      ]
     },
     "metadata": {},
     "output_type": "display_data"
    },
    {
     "data": {
      "image/png": "[encoded data removed]",
      "text/plain": [
       "Plot with title \"Ab Prot\""
      ]
     },
     "metadata": {},
     "output_type": "display_data"
    }
   ],
   "source": [
    "proteins <- subset(horseys[c(20,22)])\n",
    "colnames(proteins) <- c(\"tot prot\", \"ab prot\")\n",
    "proteins$`tot prot`= as.numeric(as.character(proteins$`tot prot`))\n",
    "proteins$`ab prot`= as.numeric(as.character(proteins$`ab prot`))\n",
    "hist(proteins$`tot prot`, breaks = 50, main=\"Tot Prot\", xlab=\"Tot Prot)\")\n",
    "hist(proteins$`ab prot`, breaks = 20, main=\"Ab Prot\", xlab=\"Ab Prot)\")\n",
    "#tee bar plot!\n"
   ]
  },
  {
   "cell_type": "code",
   "execution_count": null,
   "metadata": {},
   "outputs": [],
   "source": []
  }
 ],
 "metadata": {
  "kernelspec": {
   "display_name": "R",
   "language": "R",
   "name": "ir"
  },
  "language_info": {
   "codemirror_mode": "r",
   "file_extension": ".r",
   "mimetype": "text/x-r-source",
   "name": "R",
   "pygments_lexer": "r",
   "version": "3.6.1"
  }
 },
 "nbformat": 4,
 "nbformat_minor": 2
}
