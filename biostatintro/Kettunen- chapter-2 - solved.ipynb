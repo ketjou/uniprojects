{
 "cells": [
  {
   "cell_type": "markdown",
   "metadata": {},
   "source": [
    "# Exercises - chapter 2"
   ]
  },
  {
   "cell_type": "markdown",
   "metadata": {},
   "source": [
    "#### 2.1\n",
    "\n",
    "Read the article by [Nelson et al. (2017)](http://www.sciencedirect.com/science/article/pii/S1524904216301552) titled *Relaxation Training and Postoperative Music Therapy for Adolescents Undergoing Spinal Fusion Surgery*. The article can be accessed from the university network or by using the online services of the university library.\n",
    "\n",
    "What is the population, the sample, and the unit of the study?"
   ]
  },
  {
   "cell_type": "markdown",
   "metadata": {},
   "source": [
    "Sample: Forty-four participants scheduled for SF surgery between the ages of 10 and 19 \n",
    "Population: AIS patients scheduled for SF surgery (Control Group & Treatment Group)\n",
    "Unit: AIS patient\n"
   ]
  },
  {
   "cell_type": "markdown",
   "metadata": {},
   "source": [
    "#### 2.2\n",
    "\n",
    "Which of the following terms are appropriate to describe the study by Nelson et al. (2017)?\n",
    "\n",
    "- explanatory study\n",
    "- pragmatic study\n",
    "- complete population study\n",
    "- sampling study\n",
    "- cross-sectional study\n",
    "- longitudinal study\n",
    "- experimental study\n",
    "- observational study\n",
    "\n",
    "Explain how you reached your conclusions."
   ]
  },
  {
   "cell_type": "markdown",
   "metadata": {},
   "source": [
    "https://rethinkingclinicaltrials.org/chapters/pragmatic-clinical-trial/what-is-a-pragmatic-clinical-trial-3/\n",
    "\n",
    "Pragmatic study with strong features from quality improvement study. \"Create generalizable knowledge, improve care locally, and inform clinical and policy decisions\" --> Is it good to train relaxation before taking a music therapy session, does the training have an affect to pain\n",
    "\n",
    "Sampling study: all patients going to SF surgery can't be observed.\n",
    "\n",
    "Longitudinal study: two measurements, survey was done before treatment and after treatment--> multiple times \n",
    "\n",
    "Experimental study: a control group was used"
   ]
  },
  {
   "cell_type": "markdown",
   "metadata": {},
   "source": [
    "#### 2.3\n",
    "\n",
    "What statistical variables were used by Nelson et al. (2017) in their study? Ignore the mentions of \"behavioral observations\", \"patient controlled analgesia\", and written surveys for parents.\n",
    "\n",
    "What the scales of measurement (nominal, ordinal, interval, or ratio) do these variables have? Explain how you reached your conclusions."
   ]
  },
  {
   "cell_type": "markdown",
   "metadata": {},
   "source": [
    "Quantitative variable, the observable values are numeric values: 0-10\n",
    "Ratio, as the pain scale can't be less than zero, if there's no pain ratio is 0"
   ]
  },
  {
   "cell_type": "markdown",
   "metadata": {},
   "source": [
    "#### 2.4\n",
    "\n",
    "For each variable in the previous question, which of the following terms are appropriate to describe the variable?\n",
    "\n",
    "- discrete variable\n",
    "- continuous variable\n",
    "- dependent variable\n",
    "- independent variable\n",
    "- factor variable\n",
    "- response variable\n",
    "\n",
    "Explain how you reached your conclusions."
   ]
  },
  {
   "cell_type": "markdown",
   "metadata": {},
   "source": [
    "Pain: quantitative (numeric values), discrete (whole numbers 0-10), ratio (an absolute zero point)\n"
   ]
  },
  {
   "cell_type": "markdown",
   "metadata": {},
   "source": [
    "#### 2.5\n",
    "\n",
    "Download the [`Horse Colic data set`](https://archive.ics.uci.edu/ml/datasets/Horse+Colic) from the UCI Machine Learning Repository and load it into R. Make sure that the missing values are correctly handled.\n",
    "\n",
    "Create the subset that contains the variables 1-2, 4-5, 13, and 19-21. Assign human-readable names to the variables. (See the data set description for details.)"
   ]
  },
  {
   "cell_type": "code",
   "execution_count": null,
   "metadata": {},
   "outputs": [],
   "source": [
    "Horseys <- read.csv((\"http://archive.ics.uci.edu/ml/machine-learning-databases/statlog/heart/heart.dat\"), header = FALSE, sep = \"\")\n",
    "#download the csv dataset, header = FALSE as there are no headers on the 1st row\n",
    "#use space \"\" as a separator as the .csv file separates the values by those\n",
    "Horseys$V2[Horseys$V2==9] <- 2\n",
    "#on the 2nd column \"Age\" should be 1 and 2, but it is 1 and 9\n",
    "#replace the 9 with 2\n",
    "Horseys[Horseys==\"?\"]<- NA\n",
    "#In the dataset missing values are \"?\". Replace \"? with ‘Not Available’ / Missing Values NA\n",
    "x <- c(1,2,4,5,13,19,20,21)\n",
    "#create selection to those columns\n",
    "MyHorse <- Horseys[,x]\n",
    "#Create a new dataframe with only selected columns\n",
    "> colnames(MyHorse) <- c(“Age”, “Hospital Number”, “rectal temperature”, “pulse”, “abdominal distension”, “packed cell volume, \"total protein\", \"abdominocentesis appearance”\n",
    "Error: unexpected input in \"colnames(MyHorse) <- c(“\"\n",
    "# THIS DIDN'T WORK OUT\n"
   ]
  },
  {
   "cell_type": "markdown",
   "metadata": {},
   "source": [
    "#### 2.6\n",
    "\n",
    "Improve your data frame such that R knows which variables are categorical. Assign human-readable names to the values of the categorical variables."
   ]
  },
  {
   "cell_type": "code",
   "execution_count": null,
   "metadata": {},
   "outputs": [],
   "source": []
  },
  {
   "cell_type": "markdown",
   "metadata": {},
   "source": [
    "#### 2.7\n",
    "\n",
    "For each variable in your data frame, what is its scale of measurement (nominal, ordinal, interval, or ratio)?\n",
    "\n",
    "Explain how you reached your conclusions."
   ]
  },
  {
   "cell_type": "markdown",
   "metadata": {},
   "source": [
    " 1:  surgery? --> Nominal (unordered classification y/n)\n",
    " 2:  Age --> Nominal(unordered, classification young/old)\n",
    " 4:  rectal temperature -->  Interval, as it is temperature\n",
    " 5:  pulse --> Ratio, has a clear definition of zero, can be used for calculations\n",
    " 13: abdominal distension -->  Ordinal, order of the values is what’s important and significant\n",
    " 19: packed cell volume --> Ratio, see above\n",
    " 20: total protein --> Ratio, see above      \n",
    " 21: abdominocentesis appearance --> Ordinal, See above"
   ]
  },
  {
   "cell_type": "markdown",
   "metadata": {},
   "source": [
    "#### 2.8\n",
    "\n",
    "Which of the variables in your data frame are discrete? Which of them are continuous?\n",
    "\n",
    "Explain how you reached your conclusions."
   ]
  },
  {
   "cell_type": "markdown",
   "metadata": {},
   "source": [
    "Discrete:\n",
    "1, 2, 13 (can only take particular values)\n",
    "Continuous: \n",
    "4, 5, 19, 20 (can take any value within the measured range)"
   ]
  }
 ],
 "metadata": {
  "kernelspec": {
   "display_name": "R",
   "language": "R",
   "name": "ir"
  },
  "language_info": {
   "codemirror_mode": "r",
   "file_extension": ".r",
   "mimetype": "text/x-r-source",
   "name": "R",
   "pygments_lexer": "r",
   "version": "3.6.1"
  }
 },
 "nbformat": 4,
 "nbformat_minor": 2
}
