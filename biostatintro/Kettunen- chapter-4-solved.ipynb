{
 "cells": [
  {
   "cell_type": "markdown",
   "metadata": {},
   "source": [
    "# Exercises - chapter 4\n",
    "\n",
    "Load the horse colic data and create a subset that contains the variables 1, 4, and 5. Use this subset for exercises 4.3 - 4.7. Note that the set of variables is different from the one used in the previous exercises. Remember to handle missing values and categorical variables correctly."
   ]
  },
  {
   "cell_type": "code",
   "execution_count": 8,
   "metadata": {
    "scrolled": false
   },
   "outputs": [],
   "source": [
    "#horseys <- read.table(\"C:/Users/JK/Desktop/IntroStat/horse-colic.data\", quote=\"\\\"\", comment.char=\"\")\n",
    "horse = read.table('horse-colic.data', na='?')\n",
    "horse = subset(horse, TRUE, c(1,4,5))\n",
    "#\n",
    "names(horse) = c('surgery',\n",
    "                 'rectal_temperature',\n",
    "                 'pulse')\n",
    "\n",
    "horse$surgery = factor(horse$surgery)\n",
    "levels(horse$surgery) = c('yes','no')\n",
    "\n",
    "horse$rectal_temperature = as.numeric(as.character(horse$rectal_temperature))\n",
    "\n",
    "horse$pulse = as.numeric(as.character(horse$pulse))\n",
    "\n",
    "quantitative = (subset(horse, select=c('rectal_temperature','pulse')))\n",
    "      \n",
    "                      \n"
   ]
  },
  {
   "cell_type": "markdown",
   "metadata": {},
   "source": [
    "#### 4.1\n",
    "\n",
    "How did [Nelson et al. (2017)](http://www.sciencedirect.com/science/article/pii/S1524904216301552) use estimation in their study?"
   ]
  },
  {
   "cell_type": "markdown",
   "metadata": {},
   "source": [
    "- Estimator: Sample means (= estimate) for Pre/Post Pain and Anxiety and change in pain/anxiety --> Estimand: Population means for AIS patients in Pre/Post Pain and Anxiety and change in pain/anxiety\n",
    "\n",
    "- Estimator: Pre/post anxiety in the study sample --> Estimand: Pre/post anxiety in population of AIS patients behaviour\n",
    "\n",
    "- Estimator: Number of behavioural observations (=estimate) --> Estimand: Population of AIS patients behaviour\n",
    "\n",
    "- Estimator: Amount of calm behavior (=estimate) during music therapy  --> Estimand: Calm behavior among population of AIS patients during music therapy"
   ]
  },
  {
   "cell_type": "markdown",
   "metadata": {},
   "source": [
    "#### 4.2\n",
    "\n",
    "How did [Flatt et al. (1990)](https://www.ncbi.nlm.nih.gov/pmc/articles/PMC462313/) use estimation in their study?"
   ]
  },
  {
   "cell_type": "markdown",
   "metadata": {},
   "source": [
    "- Estimators for both groups: Mean of whole blood selenium concentration, mean of plasmas selenium C, mean of glutathione peroxidase activity, alcohol consumption, smoking habits, diet, medical history, FEV1, FEV1 after the metha-choline inhalation, atopy, farming, medication (specially taking cortisone, oral beta agonists, vitamin E, yeast supplements, contraceptive pill), recent overseas travel\n",
    "- Estimands: aforementioned parameters for asthmatics in NZ and the whole population of NZ"
   ]
  },
  {
   "cell_type": "markdown",
   "metadata": {},
   "source": [
    "#### 4.3\n",
    "\n",
    "Use a point estimator to estimate the population means of the quantitative variables of the horse colic data.\n",
    "\n",
    "Explain why your choice of estimator is appropriate.\n",
    "\n",
    "Make conclusions about the population."
   ]
  },
  {
   "cell_type": "code",
   "execution_count": 11,
   "metadata": {},
   "outputs": [
    {
     "data": {
      "text/plain": [
       "horse$surgery: yes\n",
       "     rectal_temperature     pulse\n",
       "mean         38.1435714  76.39634\n",
       "var           0.5126922 917.39410\n",
       "------------------------------------------------------------ \n",
       "horse$surgery: no\n",
       "     rectal_temperature    pulse\n",
       "mean         38.2040404  65.5045\n",
       "var           0.5781468 613.2523"
      ]
     },
     "metadata": {},
     "output_type": "display_data"
    }
   ],
   "source": [
    "by(quantitative, horse$surgery, function(y) { apply(y, 2, function(x) c(mean=mean(x, na.rm=TRUE), var=var(x, na.rm=TRUE))) })"
   ]
  },
  {
   "cell_type": "markdown",
   "metadata": {},
   "source": [
    "- Temperature means were equal in both groups\n",
    "- Pulse was lower in non surgery group. Perhaps better couping to the stress?\n",
    "- The variance in temperature is minimal ans variance in pulse is huge. Variance could be used for calculating the SD"
   ]
  },
  {
   "cell_type": "markdown",
   "metadata": {},
   "source": [
    "#### 4.4\n",
    "\n",
    "Use a point estimator to estimate the population variances of the quantitative variables of the horse colic data.\n",
    "\n",
    "Explain why your choice of estimator is appropriate.\n",
    "\n",
    "Make conclusions about the population."
   ]
  },
  {
   "cell_type": "code",
   "execution_count": 12,
   "metadata": {},
   "outputs": [
    {
     "data": {
      "text/plain": [
       "horse$surgery: yes\n",
       "rectal_temperature              pulse \n",
       "         0.7160253         30.2885143 \n",
       "------------------------------------------------------------ \n",
       "horse$surgery: no\n",
       "rectal_temperature              pulse \n",
       "         0.7603596         24.7639305 "
      ]
     },
     "metadata": {},
     "output_type": "display_data"
    }
   ],
   "source": [
    "by(quantitative, horse$surgery, function(y) { apply(y, 2, function(x) c(sd=sd(x, na.rm=TRUE))) })"
   ]
  },
  {
   "cell_type": "markdown",
   "metadata": {},
   "source": [
    "Sd tells that the temperatures aer quite reliably around the mean (38'C) and there are now real life significance in SD's of temperature. Some differences are observed in the SD's of the pulse, non surgery group having pulse closer around the mean.\n",
    "Pulse might not be real life significally different."
   ]
  },
  {
   "cell_type": "markdown",
   "metadata": {},
   "source": [
    "#### 4.5\n",
    "\n",
    "Use an interval estimator to estimate the population mean of `rectal temperature` in the horse colic data.\n",
    "\n",
    "Explain why your choice of estimator is appropriate.\n",
    "\n",
    "Make conclusions about the population."
   ]
  },
  {
   "cell_type": "code",
   "execution_count": 17,
   "metadata": {
    "scrolled": true
   },
   "outputs": [
    {
     "data": {
      "text/html": [
       "<table>\n",
       "<thead><tr><th scope=col>rectal_temperature</th><th scope=col>pulse</th></tr></thead>\n",
       "<tbody>\n",
       "\t<tr><td>38.07480</td><td>68.52039</td></tr>\n",
       "\t<tr><td>38.26103</td><td>75.30569</td></tr>\n",
       "</tbody>\n",
       "</table>\n"
      ],
      "text/latex": [
       "\\begin{tabular}{ll}\n",
       " rectal\\_temperature & pulse\\\\\n",
       "\\hline\n",
       "\t 38.07480 & 68.52039\\\\\n",
       "\t 38.26103 & 75.30569\\\\\n",
       "\\end{tabular}\n"
      ],
      "text/markdown": [
       "\n",
       "| rectal_temperature | pulse |\n",
       "|---|---|\n",
       "| 38.07480 | 68.52039 |\n",
       "| 38.26103 | 75.30569 |\n",
       "\n"
      ],
      "text/plain": [
       "     rectal_temperature pulse   \n",
       "[1,] 38.07480           68.52039\n",
       "[2,] 38.26103           75.30569"
      ]
     },
     "metadata": {},
     "output_type": "display_data"
    }
   ],
   "source": [
    "#by(quantitative, horse$surgery, function(y) { apply(y, 2, function(x) c(Level=t.test(x, conf.level=0.95)$conf.int)) })\n",
    "\n",
    "apply(quantitative, 2, function(x) t.test(x, conf.level=0.95)$conf.int)"
   ]
  },
  {
   "cell_type": "markdown",
   "metadata": {},
   "source": [
    "95% certainty that the differences between groups lie in the given confidence levels, alo differences are statistifically significan as the CL doesn't include 0."
   ]
  },
  {
   "cell_type": "markdown",
   "metadata": {},
   "source": [
    "#### 4.6\n",
    "\n",
    "Divide the observations in the horse colic data into subsets by the value of `surgery`. For each subset, use a 95%-level confidence interval to estimate the population mean of `rectal temperature`.\n",
    "\n",
    "Make conclusions about the population.\n",
    "\n",
    "Can you rely on the results? Why?"
   ]
  },
  {
   "cell_type": "code",
   "execution_count": 21,
   "metadata": {},
   "outputs": [
    {
     "data": {
      "text/plain": [
       "horse$surgery: yes\n",
       "       rectal_temperature     pulse\n",
       "mean           38.1435714  76.39634\n",
       "var             0.5126922 917.39410\n",
       "Level1         38.0239222  71.72609\n",
       "Level2         38.2632207  81.06660\n",
       "------------------------------------------------------------ \n",
       "horse$surgery: no\n",
       "       rectal_temperature     pulse\n",
       "mean           38.2040404  65.50450\n",
       "var             0.5781468 613.25225\n",
       "Level1         38.0523893  60.84639\n",
       "Level2         38.3556915  70.16262"
      ]
     },
     "metadata": {},
     "output_type": "display_data"
    }
   ],
   "source": [
    "#by(quantitative, horse$surgery, function(y) { apply(y, 2, function(x) c(Level=t.test(x, conf.level=0.95)$conf.int)) })\n",
    "\n",
    "by(quantitative, horse$surgery, function(y) { apply(y, 2, function(x) c(mean=mean(x, na.rm=TRUE), var=var(x, na.rm=TRUE), c(Level=t.test(x, conf.level=0.95)$conf.int))) })"
   ]
  },
  {
   "cell_type": "markdown",
   "metadata": {},
   "source": [
    "I would rely. The values seem to be reasonable and the describing statistics are reasonable also. Normally divided?"
   ]
  },
  {
   "cell_type": "markdown",
   "metadata": {},
   "source": [
    "#### 4.7\n",
    "\n",
    "Divide the observations in the horse colic data into subsets by the value of `surgery`. For each subset, use a 99%-level confidence interval to estimate the population mean of `pulse`.\n",
    "\n",
    "Make conclusions about the population.\n",
    "\n",
    "Can you rely on your results? Why?"
   ]
  },
  {
   "cell_type": "code",
   "execution_count": 22,
   "metadata": {},
   "outputs": [
    {
     "data": {
      "text/plain": [
       "horse$surgery: yes\n",
       "       rectal_temperature     pulse\n",
       "mean           38.1435714  76.39634\n",
       "var             0.5126922 917.39410\n",
       "Level1         37.9855262  70.23202\n",
       "Level2         38.3016166  82.56066\n",
       "------------------------------------------------------------ \n",
       "horse$surgery: no\n",
       "       rectal_temperature     pulse\n",
       "mean           38.2040404  65.50450\n",
       "var             0.5781468 613.25225\n",
       "Level1         38.0032929  59.34325\n",
       "Level2         38.4047879  71.66576"
      ]
     },
     "metadata": {},
     "output_type": "display_data"
    }
   ],
   "source": [
    "by(quantitative, horse$surgery, function(y) { apply(y, 2, function(x) c(mean=mean(x, na.rm=TRUE), var=var(x, na.rm=TRUE), c(Level=t.test(x, conf.level=0.99)$conf.int))) })"
   ]
  },
  {
   "cell_type": "markdown",
   "metadata": {},
   "source": [
    "A strange phenomena is that upper level seems to broaden when the CL is tighten. I don't know the reason for that."
   ]
  },
  {
   "cell_type": "markdown",
   "metadata": {},
   "source": [
    "#### 4.8\n",
    "\n",
    "The lecture notes discuss the calculation of the confidence interval for mean in a situation where the population is normally distributed with unknown variance $\\sigma^2$. If the variance is known, the statistic $Z=\\dfrac{\\bar{X}-\\mu}{\\sigma / \\sqrt{n}}\\sim N(0,1)$ should be used in place of $T$.\n",
    "\n",
    "Write a function that calculates the confidence interval for mean in a situation where the variance of a normally distributed population is known. The arguments of the function must be the vector of observed values, the population variance, and the confidence level.\n",
    "\n",
    "Hint: Use the `qnorm` function to get quantiles of a normal distribution."
   ]
  },
  {
   "cell_type": "markdown",
   "metadata": {},
   "source": [
    "- ????????????????????????????\n",
    "- ?????????????????????????????\n",
    "- ????????????????????????????\n",
    "\n",
    "- I know that some questions need to be tricky, but give a question like this.... Oh come on."
   ]
  },
  {
   "cell_type": "code",
   "execution_count": null,
   "metadata": {},
   "outputs": [],
   "source": []
  }
 ],
 "metadata": {
  "kernelspec": {
   "display_name": "R",
   "language": "R",
   "name": "ir"
  },
  "language_info": {
   "codemirror_mode": "r",
   "file_extension": ".r",
   "mimetype": "text/x-r-source",
   "name": "R",
   "pygments_lexer": "r",
   "version": "3.6.1"
  }
 },
 "nbformat": 4,
 "nbformat_minor": 2
}
