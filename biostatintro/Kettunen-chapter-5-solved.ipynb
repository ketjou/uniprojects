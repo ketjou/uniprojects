{
 "cells": [
  {
   "cell_type": "markdown",
   "metadata": {},
   "source": [
    "# Exercises - chapter 5\n",
    "\n",
    "Load the horse colic data and create a subset that contains the variables 1, 4, and 5. Use this subset for exercises 5.3 - 5.5 and 5.7 - 5.8. Remember to handle missing values and categorical variables correctly."
   ]
  },
  {
   "cell_type": "code",
   "execution_count": 3,
   "metadata": {
    "scrolled": false
   },
   "outputs": [],
   "source": [
    "horse = read.table('horse-colic.data', na='?')\n",
    "horse = subset(horse, TRUE, c(1,4:5))\n",
    "#\n",
    "names(horse) = c('surgery',\n",
    "                 'rectal_temperature',\n",
    "                 'pulse')\n",
    "#\n",
    "horse$surgery = factor(horse$surgery)\n",
    "levels(horse$surgery) = c('yes','no')\n"
   ]
  },
  {
   "cell_type": "markdown",
   "metadata": {},
   "source": [
    "#### 5.1\n",
    "\n",
    "How did [Nelson et al. (2017)](http://www.sciencedirect.com/science/article/pii/S1524904216301552) use hypothesis testing in their study?"
   ]
  },
  {
   "cell_type": "markdown",
   "metadata": {},
   "source": [
    "### \" \n",
    "The hypothesis was that adolescents who received preoperative training in music-assisted relaxation would experience less pain and anxiety during their first out-of- bed experience following SF surgery than adolescents who did not receive the training. A randomized study design was used to test the hypothesis.\n",
    "### \"\n",
    "\n",
    "### \" \n",
    "Independent t-tests for group differ-ences were used to examine pain and anxiety changescores (e.g., the differences between pre-interventionand post-intervention pain and anxiety scores). Pairedstudent t-tests were used to examine paired data (e.g.,the pre-intervention and post-intervention pain andanxiety scores of individual participants).\n",
    "### \""
   ]
  },
  {
   "cell_type": "markdown",
   "metadata": {},
   "source": [
    "#### 5.2\n",
    "\n",
    "How did [Flatt et al. (1990)](https://www.ncbi.nlm.nih.gov/pmc/articles/PMC462313/) use hypothesis testing in their study?"
   ]
  },
  {
   "cell_type": "markdown",
   "metadata": {},
   "source": [
    "### \"\n",
    "...the hypothesis that low selenium concentrations may have a role in the pathogenesis of asthma in New Zealand.\n",
    "### \"\n",
    "\n",
    "### \"\n",
    "The unpaired Student's t-test was used for between group comparisons, and 95% confidence intervals for the differences between means were also calculated.\n",
    "### \""
   ]
  },
  {
   "cell_type": "markdown",
   "metadata": {},
   "source": [
    "#### 5.3\n",
    "\n",
    "Does the horse colic data provide statistical evidence that the `rectal temperature` of colic horses is not normally distributed?\n",
    "\n",
    "Explain why your choice of statistical test is appropriate.\n",
    "\n",
    "Make conclusions about the population."
   ]
  },
  {
   "cell_type": "code",
   "execution_count": 1,
   "metadata": {
    "scrolled": true
   },
   "outputs": [
    {
     "ename": "ERROR",
     "evalue": "Error in hist(horse$rectal_temperature, main = \"Rectal temperature\", xlab = \"\"): object 'horse' not found\n",
     "output_type": "error",
     "traceback": [
      "Error in hist(horse$rectal_temperature, main = \"Rectal temperature\", xlab = \"\"): object 'horse' not found\nTraceback:\n",
      "1. hist(horse$rectal_temperature, main = \"Rectal temperature\", xlab = \"\")"
     ]
    }
   ],
   "source": [
    "hist(horse$rectal_temperature, main='Rectal temperature', xlab=\"\")\n",
    "# \"\"\" population seems to be normally distributed (see below), which is sufficient to use a T-statistic-based confidence interval as an estimator of mean. \"\"\"\n",
    "\n",
    "# to be sure: the shapiro wilk test is run\n",
    "shapiro.test(horse$rectal_temperature)\n",
    "\n",
    "#p-value states to reject the H0 -> data wouldn't be normally distributed\n",
    "\n",
    "#a graphical q-q plot to help?\n",
    "library('car')\n",
    "qqPlot(horse$rectal_temperature)\n",
    "\n",
    "#points won't fall into the reference line, data seems to be not normally distributed"
   ]
  },
  {
   "cell_type": "markdown",
   "metadata": {},
   "source": [
    "#### 5.4\n",
    "\n",
    "Does the horse colic data provide statistical evidence that the mean `rectal temperature` of the colic horses treated without surgery is not 38 degrees celcius?\n",
    "\n",
    "Explain why your choice of statistical test is appropriate.\n",
    "\n",
    "Make conclusions about the population."
   ]
  },
  {
   "cell_type": "code",
   "execution_count": 8,
   "metadata": {
    "scrolled": false
   },
   "outputs": [
    {
     "data": {
      "text/plain": [
       "\n",
       "\tWilcoxon signed rank test with continuity correction\n",
       "\n",
       "data:  horse$rectal_temperature\n",
       "V = 14846, p-value = 0.0002233\n",
       "alternative hypothesis: true location is not equal to 38\n"
      ]
     },
     "metadata": {},
     "output_type": "display_data"
    },
    {
     "data": {
      "text/plain": [
       "   Min. 1st Qu.  Median    Mean 3rd Qu.    Max.    NA's \n",
       "  35.40   37.80   38.20   38.17   38.50   40.80      60 "
      ]
     },
     "metadata": {},
     "output_type": "display_data"
    }
   ],
   "source": [
    "#not normal distribution -> choose wilcoxon\n",
    "# t-test to check about the TRUE MEANS -> wilcoxon about is/is not\n",
    "# p is < 0,05 -> significant difference and alternative hypothesis\n",
    "# p-value resembles the likeliness that the samples mean is 38. 0,02 % probability that the temperature is 38\n",
    "#note that the p-value changes when you set different mu value\n",
    "\n",
    "wilcox.test(horse$rectal_temperature, mu=38.0)\n",
    "summary(horse$rectal_temperature)"
   ]
  },
  {
   "cell_type": "markdown",
   "metadata": {},
   "source": [
    "#### 5.5\n",
    "\n",
    "Does the horse colic data provide statistical evidence that the mean `rectal temperature` is different between the colic horses treated without surgery and those treated with surgery?\n",
    "\n",
    "Explain why your choice of statistical test is appropriate.\n",
    "\n",
    "Make conclusions about the population."
   ]
  },
  {
   "cell_type": "code",
   "execution_count": 20,
   "metadata": {
    "scrolled": false
   },
   "outputs": [
    {
     "data": {
      "text/plain": [
       "\n",
       "\tWilcoxon rank sum test with continuity correction\n",
       "\n",
       "data:  surgered$rectal_temperature and surgerless$rectal_temperature\n",
       "W = 6584.5, p-value = 0.5116\n",
       "alternative hypothesis: true location shift is not equal to 0\n"
      ]
     },
     "metadata": {},
     "output_type": "display_data"
    }
   ],
   "source": [
    "surgered = subset(horse, surgery == 'yes')\n",
    "surgerless = subset(horse, surgery == 'no')\n",
    "\n",
    "wilcox.test(surgered$rectal_temperature, surgerless$rectal_temperature)\n",
    "\n",
    "#not normal distribution -> Wilcoxon\n",
    "#H0 -> no evidence against 0 hypothesis \n",
    "#p > 0,05 -> H0 remains valid\n",
    "# when n is large enough mean is likely to be normally distriputed -> t.test assumes MEAN to be normally distributed\n",
    "# if there is no difference 50% change of getting this kind of data, no reason to say there is no evidence against 0"
   ]
  },
  {
   "cell_type": "markdown",
   "metadata": {},
   "source": [
    "#### 5.6\n",
    "\n",
    "Does the `Oxytocin` data set in the `BSDA` package provide statistical evidence that blood pressure is lower after receiving oxytocin?\n",
    "\n",
    "Explain why your choice of statistical test is appropriate.\n",
    "\n",
    "Make conclusions about the population."
   ]
  },
  {
   "cell_type": "code",
   "execution_count": 10,
   "metadata": {
    "scrolled": true
   },
   "outputs": [
    {
     "data": {
      "text/plain": [
       "\n",
       "\tShapiro-Wilk normality test\n",
       "\n",
       "data:  diff\n",
       "W = 0.94464, p-value = 0.5765\n"
      ]
     },
     "metadata": {},
     "output_type": "display_data"
    },
    {
     "data": {
      "text/plain": [
       "\n",
       "\tPaired t-test\n",
       "\n",
       "data:  Oxytocin$after and Oxytocin$before\n",
       "t = -8.506, df = 10, p-value = 3.427e-06\n",
       "alternative hypothesis: true difference in means is less than 0\n",
       "95 percent confidence interval:\n",
       "      -Inf -35.55445\n",
       "sample estimates:\n",
       "mean of the differences \n",
       "              -45.18182 \n"
      ]
     },
     "metadata": {},
     "output_type": "display_data"
    },
    {
     "data": {
      "image/png": "[encoded data removed]",
      "text/plain": [
       "Plot with title \"Normal Q-Q Plot\""
      ]
     },
     "metadata": {},
     "output_type": "display_data"
    }
   ],
   "source": [
    "#all of the below was copyed from https://www.rdocumentation.org/packages/BSDA/versions/1.2.0/topics/Oxytocin\n",
    "#paired t-test is appropriate as the data is normally distributed\n",
    "# p-value = 6.854e-06 -> reject H0 (no affect to BP) -> H_A: there is an affect to BP\n",
    "# paired is two observatipons from one unit = before and after measurements\n",
    "\n",
    "library('BSDA')\n",
    "diff = Oxytocin$before - Oxytocin$after\n",
    "qqnorm(diff)\n",
    "qqline(diff)\n",
    "shapiro.test(diff)\n",
    "t.test(Oxytocin$after, Oxytocin$before, paired = TRUE, alternative = 'less')\n",
    "rm(diff)"
   ]
  },
  {
   "cell_type": "markdown",
   "metadata": {},
   "source": [
    "#### 5.7\n",
    "\n",
    "Use a two-sample t-test to assess whether the colic horses treated with surgery and those treated without surgery are different regarding `pulse`.\n",
    "\n",
    "Make conclusions about the population."
   ]
  },
  {
   "cell_type": "code",
   "execution_count": 27,
   "metadata": {
    "scrolled": false
   },
   "outputs": [
    {
     "data": {
      "text/plain": [
       "\n",
       "\tWelch Two Sample t-test\n",
       "\n",
       "data:  surgered$pulse and surgerless$pulse\n",
       "t = 3.2664, df = 263.34, p-value = 0.001234\n",
       "alternative hypothesis: true difference in means is not equal to 0\n",
       "95 percent confidence interval:\n",
       "  4.326229 17.457445\n",
       "sample estimates:\n",
       "mean of x mean of y \n",
       " 76.39634  65.50450 \n"
      ]
     },
     "metadata": {},
     "output_type": "display_data"
    }
   ],
   "source": [
    "surgered = subset(horse, surgery == 'yes')\n",
    "surgerless = subset(horse, surgery == 'no')\n",
    "t.test(surgered$pulse, surgerless$pulse)\n",
    "\n",
    "#Horses that underwent to surgery had higher pulse compared to those that didn't\n",
    "#The difference between groups was statistically significance df = 263.34, p-value = 0.001234\n",
    "#p-value suppports evidence against the H0"
   ]
  },
  {
   "cell_type": "markdown",
   "metadata": {},
   "source": [
    "#### 5.8\n",
    "\n",
    "Use the Mann-Whitney-Wilcoxon test to assess whether the colic horses treated with surgery and those treated without surgery are different regarding `pulse`.\n",
    "\n",
    "Make conclusions about the population. How do your conclusions differ from those made in the previous question?"
   ]
  },
  {
   "cell_type": "code",
   "execution_count": 36,
   "metadata": {},
   "outputs": [
    {
     "data": {
      "text/plain": [
       "\n",
       "\tWilcoxon rank sum test with continuity correction\n",
       "\n",
       "data:  surgered$pulse and surgerless$pulse\n",
       "W = 11129, p-value = 0.001713\n",
       "alternative hypothesis: true location shift is not equal to 0\n"
      ]
     },
     "metadata": {},
     "output_type": "display_data"
    }
   ],
   "source": [
    "surgered = subset(horse, surgery == 'yes')\n",
    "surgerless = subset(horse, surgery == 'no')\n",
    "wilcox.test(surgered$pulse, surgerless$pulse)\n",
    "\n",
    "#no difference to the t-test?\n",
    "#this is about helocations vs. t-test about the means"
   ]
  },
  {
   "cell_type": "code",
   "execution_count": null,
   "metadata": {},
   "outputs": [],
   "source": []
  }
 ],
 "metadata": {
  "kernelspec": {
   "display_name": "R",
   "language": "R",
   "name": "ir"
  },
  "language_info": {
   "codemirror_mode": "r",
   "file_extension": ".r",
   "mimetype": "text/x-r-source",
   "name": "R",
   "pygments_lexer": "r",
   "version": "3.6.1"
  }
 },
 "nbformat": 4,
 "nbformat_minor": 2
}
